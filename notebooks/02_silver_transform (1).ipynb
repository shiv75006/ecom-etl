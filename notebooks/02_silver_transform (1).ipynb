{
 "cells": [
  {
   "cell_type": "markdown",
   "metadata": {
    "application/vnd.databricks.v1+cell": {
     "cellMetadata": {},
     "inputWidgets": {},
     "nuid": "b588852e-7e7c-4b83-a2bd-da9cd8035abd",
     "showTitle": false,
     "tableResultSettingsMap": {},
     "title": ""
    }
   },
   "source": [
    "#Sliver Layer"
   ]
  },
  {
   "cell_type": "markdown",
   "metadata": {
    "application/vnd.databricks.v1+cell": {
     "cellMetadata": {},
     "inputWidgets": {},
     "nuid": "cd72270a-8968-44f5-9684-9145bc75e0d7",
     "showTitle": false,
     "tableResultSettingsMap": {},
     "title": ""
    }
   },
   "source": [
    "###Loading the data from the bronze_table(delta table) cleaning it and applying data validation on it"
   ]
  },
  {
   "cell_type": "code",
   "execution_count": 0,
   "metadata": {
    "application/vnd.databricks.v1+cell": {
     "cellMetadata": {
      "byteLimit": 2048000,
      "rowLimit": 10000
     },
     "inputWidgets": {},
     "nuid": "f00f3e78-ab0f-4b17-a192-c315b8654793",
     "showTitle": false,
     "tableResultSettingsMap": {},
     "title": ""
    }
   },
   "outputs": [
    {
     "output_type": "stream",
     "name": "stdout",
     "output_type": "stream",
     "text": [
      "root\n |-- ORDERNUMBER: integer (nullable = true)\n |-- QUANTITYORDERED: integer (nullable = true)\n |-- PRICEEACH: double (nullable = true)\n |-- ORDERLINENUMBER: integer (nullable = true)\n |-- SALES: double (nullable = true)\n |-- ORDERDATE: string (nullable = true)\n |-- STATUS: string (nullable = true)\n |-- QTR_ID: integer (nullable = true)\n |-- MONTH_ID: integer (nullable = true)\n |-- YEAR_ID: integer (nullable = true)\n |-- PRODUCTLINE: string (nullable = true)\n |-- MSRP: integer (nullable = true)\n |-- PRODUCTCODE: string (nullable = true)\n |-- CUSTOMERNAME: string (nullable = true)\n |-- PHONE: string (nullable = true)\n |-- ADDRESSLINE1: string (nullable = true)\n |-- CITY: string (nullable = true)\n |-- STATE: string (nullable = true)\n |-- POSTALCODE: string (nullable = true)\n |-- COUNTRY: string (nullable = true)\n |-- TERRITORY: string (nullable = true)\n |-- CONTACTLASTNAME: string (nullable = true)\n |-- CONTACTFIRSTNAME: string (nullable = true)\n |-- DEALSIZE: string (nullable = true)\n\n"
     ]
    },
    {
     "output_type": "display_data",
     "data": {
      "text/html": [
       "<style scoped>\n",
       "  .table-result-container {\n",
       "    max-height: 300px;\n",
       "    overflow: auto;\n",
       "  }\n",
       "  table, th, td {\n",
       "    border: 1px solid black;\n",
       "    border-collapse: collapse;\n",
       "  }\n",
       "  th, td {\n",
       "    padding: 5px;\n",
       "  }\n",
       "  th {\n",
       "    text-align: left;\n",
       "  }\n",
       "</style><div class='table-result-container'><table class='table-result'><thead style='background-color: white'><tr><th>ORDERNUMBER</th><th>QUANTITYORDERED</th><th>PRICEEACH</th><th>ORDERLINENUMBER</th><th>SALES</th><th>ORDERDATE</th><th>STATUS</th><th>QTR_ID</th><th>MONTH_ID</th><th>YEAR_ID</th><th>PRODUCTLINE</th><th>MSRP</th><th>PRODUCTCODE</th><th>CUSTOMERNAME</th><th>PHONE</th><th>ADDRESSLINE1</th><th>CITY</th><th>STATE</th><th>POSTALCODE</th><th>COUNTRY</th><th>TERRITORY</th><th>CONTACTLASTNAME</th><th>CONTACTFIRSTNAME</th><th>DEALSIZE</th></tr></thead><tbody><tr><td>10107</td><td>30</td><td>95.7</td><td>2</td><td>2871.0</td><td>2/24/2003 0:00</td><td>Shipped</td><td>1</td><td>2</td><td>2003</td><td>Motorcycles</td><td>95</td><td>S10_1678</td><td>Land of Toys Inc.</td><td>2125557818</td><td>897 Long Airport Avenue</td><td>null</td><td>NYC</td><td>NY</td><td>10022</td><td>USA</td><td>NA</td><td>Yu</td><td>Kwai</td></tr><tr><td>10121</td><td>34</td><td>81.35</td><td>5</td><td>2765.9</td><td>5/7/2003 0:00</td><td>Shipped</td><td>2</td><td>5</td><td>2003</td><td>Motorcycles</td><td>95</td><td>S10_1678</td><td>Reims Collectables</td><td>26.47.1555</td><td>59 rue de l'Abbaye</td><td>null</td><td>Reims</td><td>null</td><td>51100</td><td>France</td><td>EMEA</td><td>Henriot</td><td>Paul</td></tr><tr><td>10134</td><td>41</td><td>94.74</td><td>2</td><td>3884.34</td><td>7/1/2003 0:00</td><td>Shipped</td><td>3</td><td>7</td><td>2003</td><td>Motorcycles</td><td>95</td><td>S10_1678</td><td>Lyon Souveniers</td><td>+33 1 46 62 7555</td><td>27 rue du Colonel Pierre Avia</td><td>null</td><td>Paris</td><td>null</td><td>75508</td><td>France</td><td>EMEA</td><td>Da Cunha</td><td>Daniel</td></tr><tr><td>10145</td><td>45</td><td>83.26</td><td>6</td><td>3746.7</td><td>8/25/2003 0:00</td><td>Shipped</td><td>3</td><td>8</td><td>2003</td><td>Motorcycles</td><td>95</td><td>S10_1678</td><td>Toys4GrownUps.com</td><td>6265557265</td><td>78934 Hillside Dr.</td><td>null</td><td>Pasadena</td><td>CA</td><td>90003</td><td>USA</td><td>NA</td><td>Young</td><td>Julie</td></tr><tr><td>10159</td><td>49</td><td>100.0</td><td>14</td><td>5205.27</td><td>10/10/2003 0:00</td><td>Shipped</td><td>4</td><td>10</td><td>2003</td><td>Motorcycles</td><td>95</td><td>S10_1678</td><td>Corporate Gift Ideas Co.</td><td>6505551386</td><td>7734 Strong St.</td><td>null</td><td>San Francisco</td><td>CA</td><td>null</td><td>USA</td><td>NA</td><td>Brown</td><td>Julie</td></tr></tbody></table></div>"
      ]
     },
     "metadata": {
      "application/vnd.databricks.v1+output": {
       "addedWidgets": {},
       "aggData": [],
       "aggError": "",
       "aggOverflow": false,
       "aggSchema": [],
       "aggSeriesLimitReached": false,
       "aggType": "",
       "arguments": {},
       "columnCustomDisplayInfos": {},
       "data": [
        [
         10107,
         30,
         95.7,
         2,
         2871.0,
         "2/24/2003 0:00",
         "Shipped",
         1,
         2,
         2003,
         "Motorcycles",
         95,
         "S10_1678",
         "Land of Toys Inc.",
         "2125557818",
         "897 Long Airport Avenue",
         null,
         "NYC",
         "NY",
         "10022",
         "USA",
         "NA",
         "Yu",
         "Kwai"
        ],
        [
         10121,
         34,
         81.35,
         5,
         2765.9,
         "5/7/2003 0:00",
         "Shipped",
         2,
         5,
         2003,
         "Motorcycles",
         95,
         "S10_1678",
         "Reims Collectables",
         "26.47.1555",
         "59 rue de l'Abbaye",
         null,
         "Reims",
         null,
         "51100",
         "France",
         "EMEA",
         "Henriot",
         "Paul"
        ],
        [
         10134,
         41,
         94.74,
         2,
         3884.34,
         "7/1/2003 0:00",
         "Shipped",
         3,
         7,
         2003,
         "Motorcycles",
         95,
         "S10_1678",
         "Lyon Souveniers",
         "+33 1 46 62 7555",
         "27 rue du Colonel Pierre Avia",
         null,
         "Paris",
         null,
         "75508",
         "France",
         "EMEA",
         "Da Cunha",
         "Daniel"
        ],
        [
         10145,
         45,
         83.26,
         6,
         3746.7,
         "8/25/2003 0:00",
         "Shipped",
         3,
         8,
         2003,
         "Motorcycles",
         95,
         "S10_1678",
         "Toys4GrownUps.com",
         "6265557265",
         "78934 Hillside Dr.",
         null,
         "Pasadena",
         "CA",
         "90003",
         "USA",
         "NA",
         "Young",
         "Julie"
        ],
        [
         10159,
         49,
         100.0,
         14,
         5205.27,
         "10/10/2003 0:00",
         "Shipped",
         4,
         10,
         2003,
         "Motorcycles",
         95,
         "S10_1678",
         "Corporate Gift Ideas Co.",
         "6505551386",
         "7734 Strong St.",
         null,
         "San Francisco",
         "CA",
         null,
         "USA",
         "NA",
         "Brown",
         "Julie"
        ]
       ],
       "datasetInfos": [],
       "dbfsResultPath": null,
       "isJsonSchema": true,
       "metadata": {},
       "overflow": false,
       "plotOptions": {
        "customPlotOptions": {},
        "displayType": "table",
        "pivotAggregation": null,
        "pivotColumns": null,
        "xColumns": null,
        "yColumns": null
       },
       "removedWidgets": [],
       "schema": [
        {
         "metadata": "{}",
         "name": "ORDERNUMBER",
         "type": "\"integer\""
        },
        {
         "metadata": "{}",
         "name": "QUANTITYORDERED",
         "type": "\"integer\""
        },
        {
         "metadata": "{}",
         "name": "PRICEEACH",
         "type": "\"double\""
        },
        {
         "metadata": "{}",
         "name": "ORDERLINENUMBER",
         "type": "\"integer\""
        },
        {
         "metadata": "{}",
         "name": "SALES",
         "type": "\"double\""
        },
        {
         "metadata": "{}",
         "name": "ORDERDATE",
         "type": "\"string\""
        },
        {
         "metadata": "{}",
         "name": "STATUS",
         "type": "\"string\""
        },
        {
         "metadata": "{}",
         "name": "QTR_ID",
         "type": "\"integer\""
        },
        {
         "metadata": "{}",
         "name": "MONTH_ID",
         "type": "\"integer\""
        },
        {
         "metadata": "{}",
         "name": "YEAR_ID",
         "type": "\"integer\""
        },
        {
         "metadata": "{}",
         "name": "PRODUCTLINE",
         "type": "\"string\""
        },
        {
         "metadata": "{}",
         "name": "MSRP",
         "type": "\"integer\""
        },
        {
         "metadata": "{}",
         "name": "PRODUCTCODE",
         "type": "\"string\""
        },
        {
         "metadata": "{}",
         "name": "CUSTOMERNAME",
         "type": "\"string\""
        },
        {
         "metadata": "{}",
         "name": "PHONE",
         "type": "\"string\""
        },
        {
         "metadata": "{}",
         "name": "ADDRESSLINE1",
         "type": "\"string\""
        },
        {
         "metadata": "{}",
         "name": "CITY",
         "type": "\"string\""
        },
        {
         "metadata": "{}",
         "name": "STATE",
         "type": "\"string\""
        },
        {
         "metadata": "{}",
         "name": "POSTALCODE",
         "type": "\"string\""
        },
        {
         "metadata": "{}",
         "name": "COUNTRY",
         "type": "\"string\""
        },
        {
         "metadata": "{}",
         "name": "TERRITORY",
         "type": "\"string\""
        },
        {
         "metadata": "{}",
         "name": "CONTACTLASTNAME",
         "type": "\"string\""
        },
        {
         "metadata": "{}",
         "name": "CONTACTFIRSTNAME",
         "type": "\"string\""
        },
        {
         "metadata": "{}",
         "name": "DEALSIZE",
         "type": "\"string\""
        }
       ],
       "type": "table"
      }
     },
     "output_type": "display_data"
    }
   ],
   "source": [
    "from pyspark.sql import SparkSession\n",
    "\n",
    "# Table names\n",
    "bronze_table = \"bronze_sales\"\n",
    "silver_table = \"silver_sales\"\n",
    "validated_table=\"validated_sales\"\n",
    "\n",
    "# Load Bronze data\n",
    "df_bronze = spark.table(bronze_table)\n",
    "\n",
    "# Show schema & sample\n",
    "df_bronze.printSchema()\n",
    "display(df_bronze.limit(5))"
   ]
  },
  {
   "cell_type": "code",
   "execution_count": 0,
   "metadata": {
    "application/vnd.databricks.v1+cell": {
     "cellMetadata": {
      "byteLimit": 2048000,
      "rowLimit": 10000
     },
     "inputWidgets": {},
     "nuid": "beea3aa4-4226-40fc-b618-a95a48d903fc",
     "showTitle": false,
     "tableResultSettingsMap": {},
     "title": ""
    }
   },
   "outputs": [
    {
     "output_type": "display_data",
     "data": {
      "text/html": [
       "<style scoped>\n",
       "  .table-result-container {\n",
       "    max-height: 300px;\n",
       "    overflow: auto;\n",
       "  }\n",
       "  table, th, td {\n",
       "    border: 1px solid black;\n",
       "    border-collapse: collapse;\n",
       "  }\n",
       "  th, td {\n",
       "    padding: 5px;\n",
       "  }\n",
       "  th {\n",
       "    text-align: left;\n",
       "  }\n",
       "</style><div class='table-result-container'><table class='table-result'><thead style='background-color: white'><tr><th>ORDERNUMBER</th><th>QUANTITYORDERED</th><th>PRICEEACH</th><th>ORDERLINENUMBER</th><th>SALES</th><th>ORDERDATE</th><th>STATUS</th><th>QTR_ID</th><th>MONTH_ID</th><th>YEAR_ID</th><th>PRODUCTLINE</th><th>MSRP</th><th>PRODUCTCODE</th><th>CUSTOMERNAME</th><th>PHONE</th><th>ADDRESSLINE1</th><th>CITY</th><th>STATE</th><th>POSTALCODE</th><th>COUNTRY</th><th>TERRITORY</th><th>CONTACTLASTNAME</th><th>CONTACTFIRSTNAME</th><th>DEALSIZE</th></tr></thead><tbody><tr><td>10262</td><td>40</td><td>84.03</td><td>4</td><td>3361.2</td><td>2004-06-24T00:00:00.000Z</td><td>Cancelled</td><td>2</td><td>6</td><td>2004</td><td>Planes</td><td>91</td><td>S700_1691</td><td>Euro Shopping Channel</td><td>(91) 555 94 44</td><td>C/ Moralzarzal, 86</td><td>null</td><td>Madrid</td><td>null</td><td>28034</td><td>Spain</td><td>EMEA</td><td>Freyre</td><td>Diego</td></tr><tr><td>10193</td><td>32</td><td>79.37</td><td>5</td><td>2539.84</td><td>2003-11-21T00:00:00.000Z</td><td>Shipped</td><td>4</td><td>11</td><td>2003</td><td>Vintage Cars</td><td>99</td><td>S18_3320</td><td>Australian Collectables, Ltd</td><td>61-9-3844-6555</td><td>7 Allen Street</td><td>null</td><td>Glen Waverly</td><td>Victoria</td><td>3150</td><td>Australia</td><td>APAC</td><td>Connery</td><td>Sean</td></tr><tr><td>10114</td><td>21</td><td>100.0</td><td>5</td><td>2925.09</td><td>2003-04-01T00:00:00.000Z</td><td>Shipped</td><td>2</td><td>4</td><td>2003</td><td>Trucks and Buses</td><td>127</td><td>S24_2300</td><td>La Corne D'abondance, Co.</td><td>(1) 42.34.2555</td><td>265, boulevard Charonne</td><td>null</td><td>Paris</td><td>null</td><td>75012</td><td>France</td><td>EMEA</td><td>Bertrand</td><td>Marie</td></tr><tr><td>10361</td><td>34</td><td>100.0</td><td>6</td><td>3871.92</td><td>2004-12-17T00:00:00.000Z</td><td>Shipped</td><td>4</td><td>12</td><td>2004</td><td>Vintage Cars</td><td>65</td><td>S24_3420</td><td>Souveniers And Things Co.</td><td>+61 2 9495 8555</td><td>Monitor Money Building, 815 Pacific Hwy</td><td>Level 6</td><td>Chatswood</td><td>NSW</td><td>2067</td><td>Australia</td><td>APAC</td><td>Huxley</td><td>Adrian</td></tr><tr><td>10386</td><td>44</td><td>86.4</td><td>15</td><td>3801.6</td><td>2005-03-01T00:00:00.000Z</td><td>Resolved</td><td>1</td><td>3</td><td>2005</td><td>Planes</td><td>74</td><td>S700_4002</td><td>Euro Shopping Channel</td><td>(91) 555 94 44</td><td>C/ Moralzarzal, 86</td><td>null</td><td>Madrid</td><td>null</td><td>28034</td><td>Spain</td><td>EMEA</td><td>Freyre</td><td>Diego</td></tr></tbody></table></div>"
      ]
     },
     "metadata": {
      "application/vnd.databricks.v1+output": {
       "addedWidgets": {},
       "aggData": [],
       "aggError": "",
       "aggOverflow": false,
       "aggSchema": [],
       "aggSeriesLimitReached": false,
       "aggType": "",
       "arguments": {},
       "columnCustomDisplayInfos": {},
       "data": [
        [
         10262,
         40,
         84.03,
         4,
         3361.2,
         "2004-06-24T00:00:00.000Z",
         "Cancelled",
         2,
         6,
         2004,
         "Planes",
         91,
         "S700_1691",
         "Euro Shopping Channel",
         "(91) 555 94 44",
         "C/ Moralzarzal, 86",
         null,
         "Madrid",
         null,
         "28034",
         "Spain",
         "EMEA",
         "Freyre",
         "Diego"
        ],
        [
         10193,
         32,
         79.37,
         5,
         2539.84,
         "2003-11-21T00:00:00.000Z",
         "Shipped",
         4,
         11,
         2003,
         "Vintage Cars",
         99,
         "S18_3320",
         "Australian Collectables, Ltd",
         "61-9-3844-6555",
         "7 Allen Street",
         null,
         "Glen Waverly",
         "Victoria",
         "3150",
         "Australia",
         "APAC",
         "Connery",
         "Sean"
        ],
        [
         10114,
         21,
         100.0,
         5,
         2925.09,
         "2003-04-01T00:00:00.000Z",
         "Shipped",
         2,
         4,
         2003,
         "Trucks and Buses",
         127,
         "S24_2300",
         "La Corne D'abondance, Co.",
         "(1) 42.34.2555",
         "265, boulevard Charonne",
         null,
         "Paris",
         null,
         "75012",
         "France",
         "EMEA",
         "Bertrand",
         "Marie"
        ],
        [
         10361,
         34,
         100.0,
         6,
         3871.92,
         "2004-12-17T00:00:00.000Z",
         "Shipped",
         4,
         12,
         2004,
         "Vintage Cars",
         65,
         "S24_3420",
         "Souveniers And Things Co.",
         "+61 2 9495 8555",
         "Monitor Money Building, 815 Pacific Hwy",
         "Level 6",
         "Chatswood",
         "NSW",
         "2067",
         "Australia",
         "APAC",
         "Huxley",
         "Adrian"
        ],
        [
         10386,
         44,
         86.4,
         15,
         3801.6,
         "2005-03-01T00:00:00.000Z",
         "Resolved",
         1,
         3,
         2005,
         "Planes",
         74,
         "S700_4002",
         "Euro Shopping Channel",
         "(91) 555 94 44",
         "C/ Moralzarzal, 86",
         null,
         "Madrid",
         null,
         "28034",
         "Spain",
         "EMEA",
         "Freyre",
         "Diego"
        ]
       ],
       "datasetInfos": [],
       "dbfsResultPath": null,
       "isJsonSchema": true,
       "metadata": {},
       "overflow": false,
       "plotOptions": {
        "customPlotOptions": {},
        "displayType": "table",
        "pivotAggregation": null,
        "pivotColumns": null,
        "xColumns": null,
        "yColumns": null
       },
       "removedWidgets": [],
       "schema": [
        {
         "metadata": "{}",
         "name": "ORDERNUMBER",
         "type": "\"integer\""
        },
        {
         "metadata": "{}",
         "name": "QUANTITYORDERED",
         "type": "\"integer\""
        },
        {
         "metadata": "{}",
         "name": "PRICEEACH",
         "type": "\"double\""
        },
        {
         "metadata": "{}",
         "name": "ORDERLINENUMBER",
         "type": "\"integer\""
        },
        {
         "metadata": "{}",
         "name": "SALES",
         "type": "\"double\""
        },
        {
         "metadata": "{}",
         "name": "ORDERDATE",
         "type": "\"timestamp\""
        },
        {
         "metadata": "{}",
         "name": "STATUS",
         "type": "\"string\""
        },
        {
         "metadata": "{}",
         "name": "QTR_ID",
         "type": "\"integer\""
        },
        {
         "metadata": "{}",
         "name": "MONTH_ID",
         "type": "\"integer\""
        },
        {
         "metadata": "{}",
         "name": "YEAR_ID",
         "type": "\"integer\""
        },
        {
         "metadata": "{}",
         "name": "PRODUCTLINE",
         "type": "\"string\""
        },
        {
         "metadata": "{}",
         "name": "MSRP",
         "type": "\"integer\""
        },
        {
         "metadata": "{}",
         "name": "PRODUCTCODE",
         "type": "\"string\""
        },
        {
         "metadata": "{}",
         "name": "CUSTOMERNAME",
         "type": "\"string\""
        },
        {
         "metadata": "{}",
         "name": "PHONE",
         "type": "\"string\""
        },
        {
         "metadata": "{}",
         "name": "ADDRESSLINE1",
         "type": "\"string\""
        },
        {
         "metadata": "{}",
         "name": "CITY",
         "type": "\"string\""
        },
        {
         "metadata": "{}",
         "name": "STATE",
         "type": "\"string\""
        },
        {
         "metadata": "{}",
         "name": "POSTALCODE",
         "type": "\"string\""
        },
        {
         "metadata": "{}",
         "name": "COUNTRY",
         "type": "\"string\""
        },
        {
         "metadata": "{}",
         "name": "TERRITORY",
         "type": "\"string\""
        },
        {
         "metadata": "{}",
         "name": "CONTACTLASTNAME",
         "type": "\"string\""
        },
        {
         "metadata": "{}",
         "name": "CONTACTFIRSTNAME",
         "type": "\"string\""
        },
        {
         "metadata": "{}",
         "name": "DEALSIZE",
         "type": "\"string\""
        }
       ],
       "type": "table"
      }
     },
     "output_type": "display_data"
    }
   ],
   "source": [
    "from pyspark.sql.functions import expr\n",
    "\n",
    "# Apply cleaning rules:\n",
    "# 1. Drop nulls in critical columns (except ORDERDATE, we'll handle with try_to_timestamp)\n",
    "# 2. Drop duplicates\n",
    "# 3. Safely convert ORDERDATE to timestamp using try_to_timestamp\n",
    "\n",
    "df_clean = (\n",
    "    df_bronze.dropna(subset=[\"ORDERNUMBER\", \"SALES\"])   # keep ORDERDATE for parsing\n",
    "             .dropDuplicates()\n",
    "             .withColumn(\"ORDERDATE\", expr(\"try_to_timestamp(ORDERDATE, 'M/d/yyyy H:mm')\"))\n",
    ")\n",
    "\n",
    "# Save as Silver table\n",
    "spark.sql(f\"DROP TABLE IF EXISTS {silver_table}\")\n",
    "df_clean.write.format(\"delta\").mode(\"overwrite\").saveAsTable(silver_table)\n",
    "\n",
    "display(df_clean.limit(5))"
   ]
  },
  {
   "cell_type": "code",
   "execution_count": 0,
   "metadata": {
    "application/vnd.databricks.v1+cell": {
     "cellMetadata": {
      "byteLimit": 2048000,
      "rowLimit": 10000
     },
     "inputWidgets": {},
     "nuid": "1e3d178d-9de0-4bda-96ee-3c0837991415",
     "showTitle": false,
     "tableResultSettingsMap": {},
     "title": ""
    }
   },
   "outputs": [
    {
     "output_type": "stream",
     "name": "stdout",
     "output_type": "stream",
     "text": [
      "✅ Total rows in silver: 2823\n+-----------------+-----------+---------------+\n|ORDERNUMBER_nulls|SALES_nulls|ORDERDATE_nulls|\n+-----------------+-----------+---------------+\n|                0|          0|           2823|\n+-----------------+-----------+---------------+\n\n⚠️ Rows with negative SALES: 0\n+-------------------+-------------------+\n|           min_date|           max_date|\n+-------------------+-------------------+\n|2003-01-06 00:00:00|2005-05-31 00:00:00|\n+-------------------+-------------------+\n\n"
     ]
    },
    {
     "output_type": "display_data",
     "data": {
      "text/html": [
       "<style scoped>\n",
       "  .table-result-container {\n",
       "    max-height: 300px;\n",
       "    overflow: auto;\n",
       "  }\n",
       "  table, th, td {\n",
       "    border: 1px solid black;\n",
       "    border-collapse: collapse;\n",
       "  }\n",
       "  th, td {\n",
       "    padding: 5px;\n",
       "  }\n",
       "  th {\n",
       "    text-align: left;\n",
       "  }\n",
       "</style><div class='table-result-container'><table class='table-result'><thead style='background-color: white'><tr><th>ORDERNUMBER</th><th>QUANTITYORDERED</th><th>PRICEEACH</th><th>ORDERLINENUMBER</th><th>SALES</th><th>ORDERDATE</th><th>STATUS</th><th>QTR_ID</th><th>MONTH_ID</th><th>YEAR_ID</th><th>PRODUCTLINE</th><th>MSRP</th><th>PRODUCTCODE</th><th>CUSTOMERNAME</th><th>PHONE</th><th>ADDRESSLINE1</th><th>CITY</th><th>STATE</th><th>POSTALCODE</th><th>COUNTRY</th><th>TERRITORY</th><th>CONTACTLASTNAME</th><th>CONTACTFIRSTNAME</th><th>DEALSIZE</th></tr></thead><tbody><tr><td>10262</td><td>40</td><td>84.03</td><td>4</td><td>3361.2</td><td>2004-06-24T00:00:00.000Z</td><td>Cancelled</td><td>2</td><td>6</td><td>2004</td><td>Planes</td><td>91</td><td>S700_1691</td><td>Euro Shopping Channel</td><td>(91) 555 94 44</td><td>C/ Moralzarzal, 86</td><td>null</td><td>Madrid</td><td>null</td><td>28034</td><td>Spain</td><td>EMEA</td><td>Freyre</td><td>Diego</td></tr><tr><td>10193</td><td>32</td><td>79.37</td><td>5</td><td>2539.84</td><td>2003-11-21T00:00:00.000Z</td><td>Shipped</td><td>4</td><td>11</td><td>2003</td><td>Vintage Cars</td><td>99</td><td>S18_3320</td><td>Australian Collectables, Ltd</td><td>61-9-3844-6555</td><td>7 Allen Street</td><td>null</td><td>Glen Waverly</td><td>Victoria</td><td>3150</td><td>Australia</td><td>APAC</td><td>Connery</td><td>Sean</td></tr><tr><td>10114</td><td>21</td><td>100.0</td><td>5</td><td>2925.09</td><td>2003-04-01T00:00:00.000Z</td><td>Shipped</td><td>2</td><td>4</td><td>2003</td><td>Trucks and Buses</td><td>127</td><td>S24_2300</td><td>La Corne D'abondance, Co.</td><td>(1) 42.34.2555</td><td>265, boulevard Charonne</td><td>null</td><td>Paris</td><td>null</td><td>75012</td><td>France</td><td>EMEA</td><td>Bertrand</td><td>Marie</td></tr><tr><td>10361</td><td>34</td><td>100.0</td><td>6</td><td>3871.92</td><td>2004-12-17T00:00:00.000Z</td><td>Shipped</td><td>4</td><td>12</td><td>2004</td><td>Vintage Cars</td><td>65</td><td>S24_3420</td><td>Souveniers And Things Co.</td><td>+61 2 9495 8555</td><td>Monitor Money Building, 815 Pacific Hwy</td><td>Level 6</td><td>Chatswood</td><td>NSW</td><td>2067</td><td>Australia</td><td>APAC</td><td>Huxley</td><td>Adrian</td></tr><tr><td>10386</td><td>44</td><td>86.4</td><td>15</td><td>3801.6</td><td>2005-03-01T00:00:00.000Z</td><td>Resolved</td><td>1</td><td>3</td><td>2005</td><td>Planes</td><td>74</td><td>S700_4002</td><td>Euro Shopping Channel</td><td>(91) 555 94 44</td><td>C/ Moralzarzal, 86</td><td>null</td><td>Madrid</td><td>null</td><td>28034</td><td>Spain</td><td>EMEA</td><td>Freyre</td><td>Diego</td></tr></tbody></table></div>"
      ]
     },
     "metadata": {
      "application/vnd.databricks.v1+output": {
       "addedWidgets": {},
       "aggData": [],
       "aggError": "",
       "aggOverflow": false,
       "aggSchema": [],
       "aggSeriesLimitReached": false,
       "aggType": "",
       "arguments": {},
       "columnCustomDisplayInfos": {},
       "data": [
        [
         10262,
         40,
         84.03,
         4,
         3361.2,
         "2004-06-24T00:00:00.000Z",
         "Cancelled",
         2,
         6,
         2004,
         "Planes",
         91,
         "S700_1691",
         "Euro Shopping Channel",
         "(91) 555 94 44",
         "C/ Moralzarzal, 86",
         null,
         "Madrid",
         null,
         "28034",
         "Spain",
         "EMEA",
         "Freyre",
         "Diego"
        ],
        [
         10193,
         32,
         79.37,
         5,
         2539.84,
         "2003-11-21T00:00:00.000Z",
         "Shipped",
         4,
         11,
         2003,
         "Vintage Cars",
         99,
         "S18_3320",
         "Australian Collectables, Ltd",
         "61-9-3844-6555",
         "7 Allen Street",
         null,
         "Glen Waverly",
         "Victoria",
         "3150",
         "Australia",
         "APAC",
         "Connery",
         "Sean"
        ],
        [
         10114,
         21,
         100.0,
         5,
         2925.09,
         "2003-04-01T00:00:00.000Z",
         "Shipped",
         2,
         4,
         2003,
         "Trucks and Buses",
         127,
         "S24_2300",
         "La Corne D'abondance, Co.",
         "(1) 42.34.2555",
         "265, boulevard Charonne",
         null,
         "Paris",
         null,
         "75012",
         "France",
         "EMEA",
         "Bertrand",
         "Marie"
        ],
        [
         10361,
         34,
         100.0,
         6,
         3871.92,
         "2004-12-17T00:00:00.000Z",
         "Shipped",
         4,
         12,
         2004,
         "Vintage Cars",
         65,
         "S24_3420",
         "Souveniers And Things Co.",
         "+61 2 9495 8555",
         "Monitor Money Building, 815 Pacific Hwy",
         "Level 6",
         "Chatswood",
         "NSW",
         "2067",
         "Australia",
         "APAC",
         "Huxley",
         "Adrian"
        ],
        [
         10386,
         44,
         86.4,
         15,
         3801.6,
         "2005-03-01T00:00:00.000Z",
         "Resolved",
         1,
         3,
         2005,
         "Planes",
         74,
         "S700_4002",
         "Euro Shopping Channel",
         "(91) 555 94 44",
         "C/ Moralzarzal, 86",
         null,
         "Madrid",
         null,
         "28034",
         "Spain",
         "EMEA",
         "Freyre",
         "Diego"
        ]
       ],
       "datasetInfos": [],
       "dbfsResultPath": null,
       "isJsonSchema": true,
       "metadata": {},
       "overflow": false,
       "plotOptions": {
        "customPlotOptions": {},
        "displayType": "table",
        "pivotAggregation": null,
        "pivotColumns": null,
        "xColumns": null,
        "yColumns": null
       },
       "removedWidgets": [],
       "schema": [
        {
         "metadata": "{}",
         "name": "ORDERNUMBER",
         "type": "\"integer\""
        },
        {
         "metadata": "{}",
         "name": "QUANTITYORDERED",
         "type": "\"integer\""
        },
        {
         "metadata": "{}",
         "name": "PRICEEACH",
         "type": "\"double\""
        },
        {
         "metadata": "{}",
         "name": "ORDERLINENUMBER",
         "type": "\"integer\""
        },
        {
         "metadata": "{}",
         "name": "SALES",
         "type": "\"double\""
        },
        {
         "metadata": "{}",
         "name": "ORDERDATE",
         "type": "\"timestamp\""
        },
        {
         "metadata": "{}",
         "name": "STATUS",
         "type": "\"string\""
        },
        {
         "metadata": "{}",
         "name": "QTR_ID",
         "type": "\"integer\""
        },
        {
         "metadata": "{}",
         "name": "MONTH_ID",
         "type": "\"integer\""
        },
        {
         "metadata": "{}",
         "name": "YEAR_ID",
         "type": "\"integer\""
        },
        {
         "metadata": "{}",
         "name": "PRODUCTLINE",
         "type": "\"string\""
        },
        {
         "metadata": "{}",
         "name": "MSRP",
         "type": "\"integer\""
        },
        {
         "metadata": "{}",
         "name": "PRODUCTCODE",
         "type": "\"string\""
        },
        {
         "metadata": "{}",
         "name": "CUSTOMERNAME",
         "type": "\"string\""
        },
        {
         "metadata": "{}",
         "name": "PHONE",
         "type": "\"string\""
        },
        {
         "metadata": "{}",
         "name": "ADDRESSLINE1",
         "type": "\"string\""
        },
        {
         "metadata": "{}",
         "name": "CITY",
         "type": "\"string\""
        },
        {
         "metadata": "{}",
         "name": "STATE",
         "type": "\"string\""
        },
        {
         "metadata": "{}",
         "name": "POSTALCODE",
         "type": "\"string\""
        },
        {
         "metadata": "{}",
         "name": "COUNTRY",
         "type": "\"string\""
        },
        {
         "metadata": "{}",
         "name": "TERRITORY",
         "type": "\"string\""
        },
        {
         "metadata": "{}",
         "name": "CONTACTLASTNAME",
         "type": "\"string\""
        },
        {
         "metadata": "{}",
         "name": "CONTACTFIRSTNAME",
         "type": "\"string\""
        },
        {
         "metadata": "{}",
         "name": "DEALSIZE",
         "type": "\"string\""
        }
       ],
       "type": "table"
      }
     },
     "output_type": "display_data"
    }
   ],
   "source": [
    "from pyspark.sql.functions import count, when, isnan, col\n",
    "\n",
    "df_silver = spark.table(silver_table)\n",
    "\n",
    "# Validation 1: Count rows\n",
    "print(\"✅ Total rows in silver:\", df_silver.count())\n",
    "\n",
    "# Validation 2: Null check for important columns\n",
    "df_silver.select([\n",
    "    count(when(col(c).isNull() | (c == 'ORDERDATE'), c)).alias(c + \"_nulls\")\n",
    "    for c in [\"ORDERNUMBER\", \"SALES\", \"ORDERDATE\"]\n",
    "]).show()\n",
    "\n",
    "# Validation 3: Check for negative sales\n",
    "neg_sales = df_silver.filter(col(\"SALES\") < 0).count()\n",
    "print(\"⚠️ Rows with negative SALES:\", neg_sales)\n",
    "\n",
    "# Validation 4: Check date range sanity\n",
    "df_silver.selectExpr(\n",
    "    \"min(ORDERDATE) as min_date\", \n",
    "    \"max(ORDERDATE) as max_date\"\n",
    ").show()\n",
    "\n",
    "display(df_silver.limit(5))\n",
    "df_silver.write.format(\"delta\").mode(\"overwrite\").saveAsTable(validated_table)"
   ]
  }
 ],
 "metadata": {
  "application/vnd.databricks.v1+notebook": {
   "computePreferences": null,
   "dashboards": [],
   "environmentMetadata": {
    "base_environment": "",
    "environment_version": "2"
   },
   "inputWidgetPreferences": null,
   "language": "python",
   "notebookMetadata": {
    "pythonIndentUnit": 4
   },
   "notebookName": "02_silver_transform",
   "widgets": {}
  },
  "language_info": {
   "name": "python"
  }
 },
 "nbformat": 4,
 "nbformat_minor": 0
}