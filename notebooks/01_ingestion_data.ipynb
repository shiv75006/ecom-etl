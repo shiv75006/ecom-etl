{
 "cells": [
  {
   "cell_type": "markdown",
   "metadata": {
    "application/vnd.databricks.v1+cell": {
     "cellMetadata": {},
     "inputWidgets": {},
     "nuid": "f9f9eff8-c00a-4420-8bff-f6a3ebf601a9",
     "showTitle": false,
     "tableResultSettingsMap": {},
     "title": ""
    }
   },
   "source": [
    "#Bronze layer"
   ]
  },
  {
   "cell_type": "markdown",
   "metadata": {
    "application/vnd.databricks.v1+cell": {
     "cellMetadata": {},
     "inputWidgets": {},
     "nuid": "d5b898d6-5e27-4b05-b146-618cdbbbb9c8",
     "showTitle": false,
     "tableResultSettingsMap": {},
     "title": ""
    }
   },
   "source": [
    "###Loading raw data from csv and storing them in dataframes for further use"
   ]
  },
  {
   "cell_type": "code",
   "execution_count": 0,
   "metadata": {
    "application/vnd.databricks.v1+cell": {
     "cellMetadata": {
      "byteLimit": 2048000,
      "rowLimit": 10000
     },
     "inputWidgets": {},
     "nuid": "4723c775-e9e7-4582-a4ff-30918e3c16bb",
     "showTitle": false,
     "tableResultSettingsMap": {},
     "title": ""
    }
   },
   "outputs": [
    {
     "output_type": "stream",
     "name": "stdout",
     "output_type": "stream",
     "text": [
      "number of rows in the dataset---------------\n2823\n"
     ]
    },
    {
     "output_type": "display_data",
     "data": {
      "text/html": [
       "<style scoped>\n",
       "  .table-result-container {\n",
       "    max-height: 300px;\n",
       "    overflow: auto;\n",
       "  }\n",
       "  table, th, td {\n",
       "    border: 1px solid black;\n",
       "    border-collapse: collapse;\n",
       "  }\n",
       "  th, td {\n",
       "    padding: 5px;\n",
       "  }\n",
       "  th {\n",
       "    text-align: left;\n",
       "  }\n",
       "</style><div class='table-result-container'><table class='table-result'><thead style='background-color: white'><tr><th>ORDERNUMBER</th><th>QUANTITYORDERED</th><th>PRICEEACH</th><th>ORDERLINENUMBER</th><th>SALES</th><th>ORDERDATE</th><th>STATUS</th><th>QTR_ID</th><th>MONTH_ID</th><th>YEAR_ID</th><th>PRODUCTLINE</th><th>MSRP</th><th>PRODUCTCODE</th><th>CUSTOMERNAME</th><th>PHONE</th><th>ADDRESSLINE1</th><th>CITY</th><th>STATE</th><th>POSTALCODE</th><th>COUNTRY</th><th>TERRITORY</th><th>CONTACTLASTNAME</th><th>CONTACTFIRSTNAME</th><th>DEALSIZE</th></tr></thead><tbody><tr><td>10107</td><td>30</td><td>95.7</td><td>2</td><td>2871.0</td><td>2/24/2003 0:00</td><td>Shipped</td><td>1</td><td>2</td><td>2003</td><td>Motorcycles</td><td>95</td><td>S10_1678</td><td>Land of Toys Inc.</td><td>2125557818</td><td>897 Long Airport Avenue</td><td>null</td><td>NYC</td><td>NY</td><td>10022</td><td>USA</td><td>NA</td><td>Yu</td><td>Kwai</td></tr><tr><td>10121</td><td>34</td><td>81.35</td><td>5</td><td>2765.9</td><td>5/7/2003 0:00</td><td>Shipped</td><td>2</td><td>5</td><td>2003</td><td>Motorcycles</td><td>95</td><td>S10_1678</td><td>Reims Collectables</td><td>26.47.1555</td><td>59 rue de l'Abbaye</td><td>null</td><td>Reims</td><td>null</td><td>51100</td><td>France</td><td>EMEA</td><td>Henriot</td><td>Paul</td></tr><tr><td>10134</td><td>41</td><td>94.74</td><td>2</td><td>3884.34</td><td>7/1/2003 0:00</td><td>Shipped</td><td>3</td><td>7</td><td>2003</td><td>Motorcycles</td><td>95</td><td>S10_1678</td><td>Lyon Souveniers</td><td>+33 1 46 62 7555</td><td>27 rue du Colonel Pierre Avia</td><td>null</td><td>Paris</td><td>null</td><td>75508</td><td>France</td><td>EMEA</td><td>Da Cunha</td><td>Daniel</td></tr><tr><td>10145</td><td>45</td><td>83.26</td><td>6</td><td>3746.7</td><td>8/25/2003 0:00</td><td>Shipped</td><td>3</td><td>8</td><td>2003</td><td>Motorcycles</td><td>95</td><td>S10_1678</td><td>Toys4GrownUps.com</td><td>6265557265</td><td>78934 Hillside Dr.</td><td>null</td><td>Pasadena</td><td>CA</td><td>90003</td><td>USA</td><td>NA</td><td>Young</td><td>Julie</td></tr><tr><td>10159</td><td>49</td><td>100.0</td><td>14</td><td>5205.27</td><td>10/10/2003 0:00</td><td>Shipped</td><td>4</td><td>10</td><td>2003</td><td>Motorcycles</td><td>95</td><td>S10_1678</td><td>Corporate Gift Ideas Co.</td><td>6505551386</td><td>7734 Strong St.</td><td>null</td><td>San Francisco</td><td>CA</td><td>null</td><td>USA</td><td>NA</td><td>Brown</td><td>Julie</td></tr></tbody></table></div>"
      ]
     },
     "metadata": {
      "application/vnd.databricks.v1+output": {
       "addedWidgets": {},
       "aggData": [],
       "aggError": "",
       "aggOverflow": false,
       "aggSchema": [],
       "aggSeriesLimitReached": false,
       "aggType": "",
       "arguments": {},
       "columnCustomDisplayInfos": {},
       "data": [
        [
         10107,
         30,
         95.7,
         2,
         2871.0,
         "2/24/2003 0:00",
         "Shipped",
         1,
         2,
         2003,
         "Motorcycles",
         95,
         "S10_1678",
         "Land of Toys Inc.",
         "2125557818",
         "897 Long Airport Avenue",
         null,
         "NYC",
         "NY",
         "10022",
         "USA",
         "NA",
         "Yu",
         "Kwai"
        ],
        [
         10121,
         34,
         81.35,
         5,
         2765.9,
         "5/7/2003 0:00",
         "Shipped",
         2,
         5,
         2003,
         "Motorcycles",
         95,
         "S10_1678",
         "Reims Collectables",
         "26.47.1555",
         "59 rue de l'Abbaye",
         null,
         "Reims",
         null,
         "51100",
         "France",
         "EMEA",
         "Henriot",
         "Paul"
        ],
        [
         10134,
         41,
         94.74,
         2,
         3884.34,
         "7/1/2003 0:00",
         "Shipped",
         3,
         7,
         2003,
         "Motorcycles",
         95,
         "S10_1678",
         "Lyon Souveniers",
         "+33 1 46 62 7555",
         "27 rue du Colonel Pierre Avia",
         null,
         "Paris",
         null,
         "75508",
         "France",
         "EMEA",
         "Da Cunha",
         "Daniel"
        ],
        [
         10145,
         45,
         83.26,
         6,
         3746.7,
         "8/25/2003 0:00",
         "Shipped",
         3,
         8,
         2003,
         "Motorcycles",
         95,
         "S10_1678",
         "Toys4GrownUps.com",
         "6265557265",
         "78934 Hillside Dr.",
         null,
         "Pasadena",
         "CA",
         "90003",
         "USA",
         "NA",
         "Young",
         "Julie"
        ],
        [
         10159,
         49,
         100.0,
         14,
         5205.27,
         "10/10/2003 0:00",
         "Shipped",
         4,
         10,
         2003,
         "Motorcycles",
         95,
         "S10_1678",
         "Corporate Gift Ideas Co.",
         "6505551386",
         "7734 Strong St.",
         null,
         "San Francisco",
         "CA",
         null,
         "USA",
         "NA",
         "Brown",
         "Julie"
        ]
       ],
       "datasetInfos": [],
       "dbfsResultPath": null,
       "isJsonSchema": true,
       "metadata": {},
       "overflow": false,
       "plotOptions": {
        "customPlotOptions": {},
        "displayType": "table",
        "pivotAggregation": null,
        "pivotColumns": null,
        "xColumns": null,
        "yColumns": null
       },
       "removedWidgets": [],
       "schema": [
        {
         "metadata": "{}",
         "name": "ORDERNUMBER",
         "type": "\"integer\""
        },
        {
         "metadata": "{}",
         "name": "QUANTITYORDERED",
         "type": "\"integer\""
        },
        {
         "metadata": "{}",
         "name": "PRICEEACH",
         "type": "\"double\""
        },
        {
         "metadata": "{}",
         "name": "ORDERLINENUMBER",
         "type": "\"integer\""
        },
        {
         "metadata": "{}",
         "name": "SALES",
         "type": "\"double\""
        },
        {
         "metadata": "{}",
         "name": "ORDERDATE",
         "type": "\"string\""
        },
        {
         "metadata": "{}",
         "name": "STATUS",
         "type": "\"string\""
        },
        {
         "metadata": "{}",
         "name": "QTR_ID",
         "type": "\"integer\""
        },
        {
         "metadata": "{}",
         "name": "MONTH_ID",
         "type": "\"integer\""
        },
        {
         "metadata": "{}",
         "name": "YEAR_ID",
         "type": "\"integer\""
        },
        {
         "metadata": "{}",
         "name": "PRODUCTLINE",
         "type": "\"string\""
        },
        {
         "metadata": "{}",
         "name": "MSRP",
         "type": "\"integer\""
        },
        {
         "metadata": "{}",
         "name": "PRODUCTCODE",
         "type": "\"string\""
        },
        {
         "metadata": "{}",
         "name": "CUSTOMERNAME",
         "type": "\"string\""
        },
        {
         "metadata": "{}",
         "name": "PHONE",
         "type": "\"string\""
        },
        {
         "metadata": "{}",
         "name": "ADDRESSLINE1",
         "type": "\"string\""
        },
        {
         "metadata": "{}",
         "name": "CITY",
         "type": "\"string\""
        },
        {
         "metadata": "{}",
         "name": "STATE",
         "type": "\"string\""
        },
        {
         "metadata": "{}",
         "name": "POSTALCODE",
         "type": "\"string\""
        },
        {
         "metadata": "{}",
         "name": "COUNTRY",
         "type": "\"string\""
        },
        {
         "metadata": "{}",
         "name": "TERRITORY",
         "type": "\"string\""
        },
        {
         "metadata": "{}",
         "name": "CONTACTLASTNAME",
         "type": "\"string\""
        },
        {
         "metadata": "{}",
         "name": "CONTACTFIRSTNAME",
         "type": "\"string\""
        },
        {
         "metadata": "{}",
         "name": "DEALSIZE",
         "type": "\"string\""
        }
       ],
       "type": "table"
      }
     },
     "output_type": "display_data"
    }
   ],
   "source": [
    "from pyspark.sql.types import StructType, StructField, StringType, IntegerType, DoubleType, DateType\n",
    "\n",
    "# File path inside your volume\n",
    "raw_path = \"/Volumes/workspace/default/sales_data/sales_data_sample_de.csv\"\n",
    "\n",
    "# Bronze Delta path\n",
    "bronze_table = \"bronze_sales\"\n",
    "\n",
    "# Define schema (adjust based on your CSV columns)\n",
    "schema = StructType([\n",
    "    StructField(\"ORDERNUMBER\", IntegerType(), True),\n",
    "    StructField(\"QUANTITYORDERED\", IntegerType(), True),\n",
    "    StructField(\"PRICEEACH\", DoubleType(), True),\n",
    "    StructField(\"ORDERLINENUMBER\", IntegerType(), True),\n",
    "    StructField(\"SALES\", DoubleType(), True),\n",
    "    StructField(\"ORDERDATE\", StringType(), True),\n",
    "    StructField(\"STATUS\", StringType(), True),\n",
    "    StructField(\"QTR_ID\", IntegerType(), True),\n",
    "    StructField(\"MONTH_ID\", IntegerType(), True),\n",
    "    StructField(\"YEAR_ID\", IntegerType(), True),\n",
    "    StructField(\"PRODUCTLINE\", StringType(), True),\n",
    "    StructField(\"MSRP\", IntegerType(), True),\n",
    "    StructField(\"PRODUCTCODE\", StringType(), True),\n",
    "    StructField(\"CUSTOMERNAME\", StringType(), True),\n",
    "    StructField(\"PHONE\", StringType(), True),\n",
    "    StructField(\"ADDRESSLINE1\", StringType(), True),\n",
    "    StructField(\"CITY\", StringType(), True),\n",
    "    StructField(\"STATE\", StringType(), True),\n",
    "    StructField(\"POSTALCODE\", StringType(), True),\n",
    "    StructField(\"COUNTRY\", StringType(), True),\n",
    "    StructField(\"TERRITORY\", StringType(), True),\n",
    "    StructField(\"CONTACTLASTNAME\", StringType(), True),\n",
    "    StructField(\"CONTACTFIRSTNAME\", StringType(), True),\n",
    "    StructField(\"DEALSIZE\", StringType(), True)\n",
    "])\n",
    "\n",
    "# Read raw CSV into Bronze\n",
    "bronze_df = (\n",
    "    spark.read.format(\"csv\")\n",
    "    .option(\"header\", \"true\")\n",
    "    .schema(schema)\n",
    "    .load(raw_path)\n",
    ")\n",
    "\n",
    "# Write to Delta (Bronze Layer)\n",
    "bronze_df.write.format(\"delta\").mode(\"overwrite\").saveAsTable(bronze_table)\n",
    "\n",
    "print('number of rows in the dataset---------------')\n",
    "print(bronze_df.count())\n",
    "display(bronze_df.limit(5))"
   ]
  }
 ],
 "metadata": {
  "application/vnd.databricks.v1+notebook": {
   "computePreferences": null,
   "dashboards": [],
   "environmentMetadata": {
    "base_environment": "",
    "environment_version": "2"
   },
   "inputWidgetPreferences": null,
   "language": "python",
   "notebookMetadata": {
    "pythonIndentUnit": 4
   },
   "notebookName": "01_ingestion_data",
   "widgets": {}
  },
  "language_info": {
   "name": "python"
  }
 },
 "nbformat": 4,
 "nbformat_minor": 0
}