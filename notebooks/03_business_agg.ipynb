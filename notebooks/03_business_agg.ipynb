{
 "cells": [
  {
   "cell_type": "markdown",
   "metadata": {
    "application/vnd.databricks.v1+cell": {
     "cellMetadata": {},
     "inputWidgets": {},
     "nuid": "b2ca3827-8daa-4173-ab43-63e34f069305",
     "showTitle": false,
     "tableResultSettingsMap": {},
     "title": ""
    }
   },
   "source": [
    "#Gold Layer"
   ]
  },
  {
   "cell_type": "markdown",
   "metadata": {
    "application/vnd.databricks.v1+cell": {
     "cellMetadata": {},
     "inputWidgets": {},
     "nuid": "80d3a75f-bc6f-41ba-9a4d-b384acc00370",
     "showTitle": false,
     "tableResultSettingsMap": {},
     "title": ""
    }
   },
   "source": [
    "###deriving values from the data validated in the silver layer and building a visual dashboard out of it\n"
   ]
  },
  {
   "cell_type": "code",
   "execution_count": 0,
   "metadata": {
    "application/vnd.databricks.v1+cell": {
     "cellMetadata": {
      "byteLimit": 2048000,
      "rowLimit": 10000
     },
     "inputWidgets": {},
     "nuid": "a6a362e5-9b74-49ae-90db-b78a3a2ba5ab",
     "showTitle": false,
     "tableResultSettingsMap": {},
     "title": ""
    }
   },
   "outputs": [
    {
     "output_type": "display_data",
     "data": {
      "text/html": [
       "<style scoped>\n",
       "  .table-result-container {\n",
       "    max-height: 300px;\n",
       "    overflow: auto;\n",
       "  }\n",
       "  table, th, td {\n",
       "    border: 1px solid black;\n",
       "    border-collapse: collapse;\n",
       "  }\n",
       "  th, td {\n",
       "    padding: 5px;\n",
       "  }\n",
       "  th {\n",
       "    text-align: left;\n",
       "  }\n",
       "</style><div class='table-result-container'><table class='table-result'><thead style='background-color: white'><tr><th>year</th><th>month</th><th>total_sales</th><th>avg_sales</th><th>unique_orders</th><th>row_count</th></tr></thead><tbody><tr><td>2003</td><td>1</td><td>129753.59999999999</td><td>3327.0153846153844</td><td>5</td><td>39</td></tr><tr><td>2003</td><td>2</td><td>140836.19</td><td>3435.029024390244</td><td>3</td><td>41</td></tr><tr><td>2003</td><td>3</td><td>174504.90000000002</td><td>3490.0980000000004</td><td>6</td><td>50</td></tr><tr><td>2003</td><td>4</td><td>201609.55000000002</td><td>3476.0267241379315</td><td>7</td><td>58</td></tr><tr><td>2003</td><td>5</td><td>192673.10999999996</td><td>3321.950172413792</td><td>6</td><td>58</td></tr></tbody></table></div>"
      ]
     },
     "metadata": {
      "application/vnd.databricks.v1+output": {
       "addedWidgets": {},
       "aggData": [],
       "aggError": "",
       "aggOverflow": false,
       "aggSchema": [],
       "aggSeriesLimitReached": false,
       "aggType": "",
       "arguments": {},
       "columnCustomDisplayInfos": {},
       "data": [
        [
         2003,
         1,
         129753.59999999999,
         3327.0153846153844,
         5,
         39
        ],
        [
         2003,
         2,
         140836.19,
         3435.029024390244,
         3,
         41
        ],
        [
         2003,
         3,
         174504.90000000002,
         3490.0980000000004,
         6,
         50
        ],
        [
         2003,
         4,
         201609.55000000002,
         3476.0267241379315,
         7,
         58
        ],
        [
         2003,
         5,
         192673.10999999996,
         3321.950172413792,
         6,
         58
        ]
       ],
       "datasetInfos": [],
       "dbfsResultPath": null,
       "isJsonSchema": true,
       "metadata": {},
       "overflow": false,
       "plotOptions": {
        "customPlotOptions": {},
        "displayType": "table",
        "pivotAggregation": null,
        "pivotColumns": null,
        "xColumns": null,
        "yColumns": null
       },
       "removedWidgets": [],
       "schema": [
        {
         "metadata": "{}",
         "name": "year",
         "type": "\"integer\""
        },
        {
         "metadata": "{}",
         "name": "month",
         "type": "\"integer\""
        },
        {
         "metadata": "{}",
         "name": "total_sales",
         "type": "\"double\""
        },
        {
         "metadata": "{}",
         "name": "avg_sales",
         "type": "\"double\""
        },
        {
         "metadata": "{}",
         "name": "unique_orders",
         "type": "\"long\""
        },
        {
         "metadata": "{}",
         "name": "row_count",
         "type": "\"long\""
        }
       ],
       "type": "table"
      }
     },
     "output_type": "display_data"
    }
   ],
   "source": [
    "from pyspark.sql import functions as F\n",
    "\n",
    "silver_table=\"silver_sales\"\n",
    "# Load from Silver table\n",
    "df_silver = spark.table('validated_sales')\n",
    "\n",
    "# Apply Gold layer business transformations:\n",
    "# 1. Filter data strictly within valid date range\n",
    "# 2. Aggregate: total sales, average sales, count of orders by year/month\n",
    "# 3. Persist into Gold table\n",
    "\n",
    "df_gold = (\n",
    "    df_silver\n",
    "    .filter((F.col(\"ORDERDATE\") >= F.lit(\"2003-01-06\")) & \n",
    "            (F.col(\"ORDERDATE\") <= F.lit(\"2005-05-31\")))\n",
    "    .groupBy(\n",
    "        F.year(\"ORDERDATE\").alias(\"year\"),\n",
    "        F.month(\"ORDERDATE\").alias(\"month\")\n",
    "    )\n",
    "    .agg(\n",
    "        F.sum(\"SALES\").alias(\"total_sales\"),\n",
    "        F.avg(\"SALES\").alias(\"avg_sales\"),\n",
    "        F.countDistinct(\"ORDERNUMBER\").alias(\"unique_orders\"),\n",
    "        F.count(\"*\").alias(\"row_count\")\n",
    "    )\n",
    "    .orderBy(\"year\", \"month\")\n",
    ")\n",
    "\n",
    "display(df_gold.limit(5))"
   ]
  },
  {
   "cell_type": "markdown",
   "metadata": {
    "application/vnd.databricks.v1+cell": {
     "cellMetadata": {
      "byteLimit": 2048000,
      "rowLimit": 10000
     },
     "inputWidgets": {},
     "nuid": "186bd95b-0e17-443c-ba0d-a636d3b99bf6",
     "showTitle": false,
     "tableResultSettingsMap": {},
     "title": ""
    }
   },
   "source": [
    "###Monthly sales summary"
   ]
  },
  {
   "cell_type": "code",
   "execution_count": 0,
   "metadata": {
    "application/vnd.databricks.v1+cell": {
     "cellMetadata": {
      "byteLimit": 2048000,
      "rowLimit": 10000
     },
     "inputWidgets": {},
     "nuid": "f7d0bc32-d687-43ff-a920-938bf75d699c",
     "showTitle": false,
     "tableResultSettingsMap": {},
     "title": ""
    }
   },
   "outputs": [
    {
     "output_type": "display_data",
     "data": {
      "text/html": [
       "<style scoped>\n",
       "  .table-result-container {\n",
       "    max-height: 300px;\n",
       "    overflow: auto;\n",
       "  }\n",
       "  table, th, td {\n",
       "    border: 1px solid black;\n",
       "    border-collapse: collapse;\n",
       "  }\n",
       "  th, td {\n",
       "    padding: 5px;\n",
       "  }\n",
       "  th {\n",
       "    text-align: left;\n",
       "  }\n",
       "</style><div class='table-result-container'><table class='table-result'><thead style='background-color: white'><tr><th>year</th><th>month</th><th>total_sales</th><th>avg_sales</th><th>unique_orders</th><th>row_count</th></tr></thead><tbody><tr><td>2003</td><td>1</td><td>129753.59999999999</td><td>3327.0153846153844</td><td>5</td><td>39</td></tr><tr><td>2003</td><td>2</td><td>140836.19</td><td>3435.029024390244</td><td>3</td><td>41</td></tr><tr><td>2003</td><td>3</td><td>174504.90000000002</td><td>3490.0980000000004</td><td>6</td><td>50</td></tr><tr><td>2003</td><td>4</td><td>201609.55000000002</td><td>3476.0267241379315</td><td>7</td><td>58</td></tr><tr><td>2003</td><td>5</td><td>192673.10999999996</td><td>3321.950172413792</td><td>6</td><td>58</td></tr><tr><td>2003</td><td>6</td><td>168082.56000000003</td><td>3653.9686956521746</td><td>6</td><td>46</td></tr><tr><td>2003</td><td>7</td><td>187731.88</td><td>3754.6376</td><td>6</td><td>50</td></tr><tr><td>2003</td><td>8</td><td>197809.3</td><td>3410.505172413793</td><td>5</td><td>58</td></tr><tr><td>2003</td><td>9</td><td>263973.36</td><td>3473.333684210526</td><td>8</td><td>76</td></tr><tr><td>2003</td><td>10</td><td>568290.97</td><td>3596.7782911392405</td><td>17</td><td>158</td></tr><tr><td>2003</td><td>11</td><td>1029837.6600000003</td><td>3479.1812837837847</td><td>28</td><td>296</td></tr><tr><td>2003</td><td>12</td><td>261876.46000000002</td><td>3741.092285714286</td><td>7</td><td>70</td></tr><tr><td>2004</td><td>1</td><td>316577.42</td><td>3478.872747252747</td><td>8</td><td>91</td></tr><tr><td>2004</td><td>2</td><td>311419.53</td><td>3621.1573255813955</td><td>10</td><td>86</td></tr><tr><td>2004</td><td>3</td><td>205733.72999999998</td><td>3673.816607142857</td><td>7</td><td>56</td></tr><tr><td>2004</td><td>4</td><td>206148.12000000002</td><td>3221.0643750000004</td><td>10</td><td>64</td></tr><tr><td>2004</td><td>5</td><td>273438.39</td><td>3695.1133783783785</td><td>8</td><td>74</td></tr><tr><td>2004</td><td>6</td><td>286674.22</td><td>3372.637882352941</td><td>10</td><td>85</td></tr><tr><td>2004</td><td>7</td><td>327144.0900000001</td><td>3594.990000000001</td><td>10</td><td>91</td></tr><tr><td>2004</td><td>8</td><td>461501.27</td><td>3469.934360902256</td><td>12</td><td>133</td></tr><tr><td>2004</td><td>9</td><td>320750.91</td><td>3376.325368421052</td><td>12</td><td>95</td></tr><tr><td>2004</td><td>10</td><td>552924.25</td><td>3477.511006289308</td><td>13</td><td>159</td></tr><tr><td>2004</td><td>11</td><td>1089048.01</td><td>3618.0997009966777</td><td>33</td><td>301</td></tr><tr><td>2004</td><td>12</td><td>372802.66000000003</td><td>3389.115090909091</td><td>11</td><td>110</td></tr><tr><td>2005</td><td>1</td><td>339543.42</td><td>3429.731515151515</td><td>12</td><td>99</td></tr><tr><td>2005</td><td>2</td><td>358186.17999999993</td><td>3692.6410309278344</td><td>12</td><td>97</td></tr><tr><td>2005</td><td>3</td><td>374262.76000000007</td><td>3530.780754716982</td><td>12</td><td>106</td></tr><tr><td>2005</td><td>4</td><td>261633.28999999998</td><td>4672.0230357142855</td><td>9</td><td>56</td></tr><tr><td>2005</td><td>5</td><td>457861.05999999994</td><td>3815.508833333333</td><td>14</td><td>120</td></tr></tbody></table></div>"
      ]
     },
     "metadata": {
      "application/vnd.databricks.v1+output": {
       "addedWidgets": {},
       "aggData": [],
       "aggError": "",
       "aggOverflow": false,
       "aggSchema": [],
       "aggSeriesLimitReached": false,
       "aggType": "",
       "arguments": {},
       "columnCustomDisplayInfos": {},
       "data": [
        [
         2003,
         1,
         129753.59999999999,
         3327.0153846153844,
         5,
         39
        ],
        [
         2003,
         2,
         140836.19,
         3435.029024390244,
         3,
         41
        ],
        [
         2003,
         3,
         174504.90000000002,
         3490.0980000000004,
         6,
         50
        ],
        [
         2003,
         4,
         201609.55000000002,
         3476.0267241379315,
         7,
         58
        ],
        [
         2003,
         5,
         192673.10999999996,
         3321.950172413792,
         6,
         58
        ],
        [
         2003,
         6,
         168082.56000000003,
         3653.9686956521746,
         6,
         46
        ],
        [
         2003,
         7,
         187731.88,
         3754.6376,
         6,
         50
        ],
        [
         2003,
         8,
         197809.3,
         3410.505172413793,
         5,
         58
        ],
        [
         2003,
         9,
         263973.36,
         3473.333684210526,
         8,
         76
        ],
        [
         2003,
         10,
         568290.97,
         3596.7782911392405,
         17,
         158
        ],
        [
         2003,
         11,
         1029837.6600000003,
         3479.1812837837847,
         28,
         296
        ],
        [
         2003,
         12,
         261876.46000000002,
         3741.092285714286,
         7,
         70
        ],
        [
         2004,
         1,
         316577.42,
         3478.872747252747,
         8,
         91
        ],
        [
         2004,
         2,
         311419.53,
         3621.1573255813955,
         10,
         86
        ],
        [
         2004,
         3,
         205733.72999999998,
         3673.816607142857,
         7,
         56
        ],
        [
         2004,
         4,
         206148.12000000002,
         3221.0643750000004,
         10,
         64
        ],
        [
         2004,
         5,
         273438.39,
         3695.1133783783785,
         8,
         74
        ],
        [
         2004,
         6,
         286674.22,
         3372.637882352941,
         10,
         85
        ],
        [
         2004,
         7,
         327144.0900000001,
         3594.990000000001,
         10,
         91
        ],
        [
         2004,
         8,
         461501.27,
         3469.934360902256,
         12,
         133
        ],
        [
         2004,
         9,
         320750.91,
         3376.325368421052,
         12,
         95
        ],
        [
         2004,
         10,
         552924.25,
         3477.511006289308,
         13,
         159
        ],
        [
         2004,
         11,
         1089048.01,
         3618.0997009966777,
         33,
         301
        ],
        [
         2004,
         12,
         372802.66000000003,
         3389.115090909091,
         11,
         110
        ],
        [
         2005,
         1,
         339543.42,
         3429.731515151515,
         12,
         99
        ],
        [
         2005,
         2,
         358186.17999999993,
         3692.6410309278344,
         12,
         97
        ],
        [
         2005,
         3,
         374262.76000000007,
         3530.780754716982,
         12,
         106
        ],
        [
         2005,
         4,
         261633.28999999998,
         4672.0230357142855,
         9,
         56
        ],
        [
         2005,
         5,
         457861.05999999994,
         3815.508833333333,
         14,
         120
        ]
       ],
       "datasetInfos": [],
       "dbfsResultPath": null,
       "isJsonSchema": true,
       "metadata": {},
       "overflow": false,
       "plotOptions": {
        "customPlotOptions": {},
        "displayType": "table",
        "pivotAggregation": null,
        "pivotColumns": null,
        "xColumns": null,
        "yColumns": null
       },
       "removedWidgets": [],
       "schema": [
        {
         "metadata": "{}",
         "name": "year",
         "type": "\"integer\""
        },
        {
         "metadata": "{}",
         "name": "month",
         "type": "\"integer\""
        },
        {
         "metadata": "{}",
         "name": "total_sales",
         "type": "\"double\""
        },
        {
         "metadata": "{}",
         "name": "avg_sales",
         "type": "\"double\""
        },
        {
         "metadata": "{}",
         "name": "unique_orders",
         "type": "\"long\""
        },
        {
         "metadata": "{}",
         "name": "row_count",
         "type": "\"long\""
        }
       ],
       "type": "table"
      }
     },
     "output_type": "display_data"
    },
    {
     "output_type": "display_data",
     "data": {
      "text/plain": [
       "Databricks visualization. Run in Databricks to view."
      ]
     },
     "metadata": {
      "application/vnd.databricks.v1.subcommand+json": {
       "baseErrorDetails": null,
       "bindings": {},
       "collapsed": false,
       "command": "%python\n__backend_agg_display_orig = display\n__backend_agg_dfs = []\ndef __backend_agg_display_new(df):\n    __backend_agg_df_modules = [\"pandas.core.frame\", \"databricks.koalas.frame\", \"pyspark.sql.dataframe\", \"pyspark.pandas.frame\", \"pyspark.sql.connect.dataframe\"]\n    if (type(df).__module__ in __backend_agg_df_modules and type(df).__name__ == 'DataFrame') or isinstance(df, list):\n        __backend_agg_dfs.append(df)\n\ndisplay = __backend_agg_display_new\n\ndef __backend_agg_user_code_fn():\n    import base64\n    exec(base64.standard_b64decode(\"IyBNb250aGx5IFNhbGVzIFN1bW1hcnkKZGZfbW9udGhseSA9ICgKICAgIGRmX3NpbHZlci5ncm91cEJ5KAogICAgICAgIEYueWVhcigiT1JERVJEQVRFIikuYWxpYXMoInllYXIiKSwKICAgICAgICBGLm1vbnRoKCJPUkRFUkRBVEUiKS5hbGlhcygibW9udGgiKQogICAgKQogICAgLmFnZygKICAgICAgICBGLnN1bSgiU0FMRVMiKS5hbGlhcygidG90YWxfc2FsZXMiKSwKICAgICAgICBGLmF2ZygiU0FMRVMiKS5hbGlhcygiYXZnX3NhbGVzIiksCiAgICAgICAgRi5jb3VudERpc3RpbmN0KCJPUkRFUk5VTUJFUiIpLmFsaWFzKCJ1bmlxdWVfb3JkZXJzIiksCiAgICAgICAgRi5jb3VudCgiKiIpLmFsaWFzKCJyb3dfY291bnQiKQogICAgKQogICAgLm9yZGVyQnkoInllYXIiLCAibW9udGgiKQopCgojIFNhdmUgdG8gR29sZCBMYXllcgpkZl9tb250aGx5LndyaXRlLmZvcm1hdCgiZGVsdGEiKS5tb2RlKCJvdmVyd3JpdGUiKS5zYXZlQXNUYWJsZSgiZ29sZF9zYWxlc19tb250aGx5IikKCiMgVmlzdWFsaXplIGluIERhdGFicmlja3MgCmRpc3BsYXkoZGZfbW9udGhseSk=\").decode())\n\ntry:\n    # run user code\n    __backend_agg_user_code_fn()\n\n    #reset display function\n    display = __backend_agg_display_orig\n\n    if len(__backend_agg_dfs) > 0:\n        # create a temp view\n        if type(__backend_agg_dfs[0]).__module__ == \"databricks.koalas.frame\":\n            # koalas dataframe\n            __backend_agg_dfs[0].to_spark().createOrReplaceTempView(\"DatabricksViewb00fd7a\")\n        elif type(__backend_agg_dfs[0]).__module__ == \"pandas.core.frame\" or isinstance(__backend_agg_dfs[0], list):\n            # pandas dataframe\n            spark.createDataFrame(__backend_agg_dfs[0]).createOrReplaceTempView(\"DatabricksViewb00fd7a\")\n        else:\n            __backend_agg_dfs[0].createOrReplaceTempView(\"DatabricksViewb00fd7a\")\n        #run backend agg\n        display(spark.sql(\"\"\"WITH q AS (select * from DatabricksViewb00fd7a) SELECT `month`,SUM(`total_sales`) `column_eada08fb86`,`year` FROM q GROUP BY `month`,`year`\"\"\"))\n    else:\n        displayHTML(\"dataframe no longer exists. If you're using dataframe.display(), use display(dataframe) instead.\")\n\n\nfinally:\n    spark.sql(\"drop view if exists DatabricksViewb00fd7a\")\n    display = __backend_agg_display_orig\n    del __backend_agg_display_new\n    del __backend_agg_display_orig\n    del __backend_agg_dfs\n    del __backend_agg_user_code_fn\n\n",
       "commandTitle": "Visualization 1",
       "commandType": "auto",
       "commandVersion": 0,
       "commentThread": [],
       "commentsVisible": false,
       "contentSha256Hex": null,
       "customPlotOptions": {
        "redashChart": [
         {
          "key": "type",
          "value": "CHART"
         },
         {
          "key": "options",
          "value": {
           "alignYAxesAtZero": true,
           "coefficient": 1,
           "columnConfigurationMap": {
            "series": {
             "column": "year",
             "id": "column_eada08fb89"
            },
            "x": {
             "column": "month",
             "id": "column_eada08fb88"
            },
            "y": [
             {
              "column": "total_sales",
              "id": "column_eada08fb86",
              "transform": "SUM"
             }
            ]
           },
           "dateTimeFormat": "DD/MM/YYYY HH:mm",
           "direction": {
            "type": "counterclockwise"
           },
           "error_y": {
            "type": "data",
            "visible": true
           },
           "globalSeriesType": "line",
           "isAggregationOn": true,
           "legend": {
            "traceorder": "normal"
           },
           "missingValuesAsZero": true,
           "numberFormat": "0,0.[00000]",
           "percentFormat": "0[.]00%",
           "series": {
            "error_y": {
             "type": "data",
             "visible": true
            },
            "stacking": null
           },
           "seriesOptions": {
            "column_eada08fb86": {
             "type": "line",
             "yAxis": 0
            }
           },
           "showDataLabels": false,
           "sizemode": "diameter",
           "sortX": true,
           "sortY": true,
           "swappedAxes": false,
           "textFormat": "",
           "useAggregationsUi": true,
           "valuesOptions": {},
           "version": 2,
           "xAxis": {
            "labels": {
             "enabled": true
            },
            "type": "-"
           },
           "yAxis": [
            {
             "type": "-"
            },
            {
             "opposite": true,
             "type": "-"
            }
           ]
          }
         }
        ]
       },
       "datasetPreviewNameToCmdIdMap": {},
       "diffDeletes": [],
       "diffInserts": [],
       "displayType": "redashChart",
       "error": null,
       "errorDetails": null,
       "errorSummary": null,
       "errorTraceType": null,
       "finishTime": 0,
       "globalVars": {},
       "guid": "",
       "height": "auto",
       "hideCommandCode": false,
       "hideCommandResult": false,
       "iPythonMetadata": null,
       "inputWidgets": {},
       "isLockedInExamMode": false,
       "latestUser": "a user",
       "latestUserId": null,
       "listResultMetadata": null,
       "metadata": {
        "byteLimit": 2048000,
        "rowLimit": 10000
       },
       "nuid": "4f7c282c-9047-44c2-8dc0-465bdd949d37",
       "origId": 0,
       "parentHierarchy": [],
       "pivotAggregation": null,
       "pivotColumns": null,
       "position": 4.0,
       "resultDbfsErrorMessage": null,
       "resultDbfsStatus": "INLINED_IN_TREE",
       "results": null,
       "showCommandTitle": false,
       "startTime": 0,
       "state": "finished",
       "streamStates": {},
       "subcommandOptions": {
        "queryPlan": {
         "groups": [
          {
           "column": "month",
           "type": "column"
          },
          {
           "column": "year",
           "type": "column"
          }
         ],
         "selects": [
          {
           "column": "month",
           "type": "column"
          },
          {
           "alias": "column_eada08fb86",
           "args": [
            {
             "column": "total_sales",
             "type": "column"
            }
           ],
           "function": "SUM",
           "type": "function"
          },
          {
           "column": "year",
           "type": "column"
          }
         ]
        }
       },
       "submitTime": 0,
       "subtype": "tableResultSubCmd.visualization",
       "tableResultIndex": 0,
       "tableResultSettingsMap": {},
       "useConsistentColors": false,
       "version": "CommandV1",
       "width": "auto",
       "workflows": [],
       "xColumns": null,
       "yColumns": null
      }
     },
     "output_type": "display_data"
    }
   ],
   "source": [
    "# Monthly Sales Summary\n",
    "df_monthly = (\n",
    "    df_silver.groupBy(\n",
    "        F.year(\"ORDERDATE\").alias(\"year\"),\n",
    "        F.month(\"ORDERDATE\").alias(\"month\")\n",
    "    )\n",
    "    .agg(\n",
    "        F.sum(\"SALES\").alias(\"total_sales\"),\n",
    "        F.avg(\"SALES\").alias(\"avg_sales\"),\n",
    "        F.countDistinct(\"ORDERNUMBER\").alias(\"unique_orders\"),\n",
    "        F.count(\"*\").alias(\"row_count\")\n",
    "    )\n",
    "    .orderBy(\"year\", \"month\")\n",
    ")\n",
    "\n",
    "# Save to Gold Layer\n",
    "df_monthly.write.format(\"delta\").mode(\"overwrite\").saveAsTable(\"gold_sales_monthly\")\n",
    "\n",
    "# Visualize in Databricks \n",
    "display(df_monthly)"
   ]
  },
  {
   "cell_type": "markdown",
   "metadata": {
    "application/vnd.databricks.v1+cell": {
     "cellMetadata": {
      "byteLimit": 2048000,
      "rowLimit": 10000
     },
     "inputWidgets": {},
     "nuid": "134d1003-0b21-41fd-9794-63fd059862ce",
     "showTitle": false,
     "tableResultSettingsMap": {},
     "title": ""
    }
   },
   "source": [
    "###Yearly Sales Summary"
   ]
  },
  {
   "cell_type": "code",
   "execution_count": 0,
   "metadata": {
    "application/vnd.databricks.v1+cell": {
     "cellMetadata": {
      "byteLimit": 2048000,
      "rowLimit": 10000
     },
     "inputWidgets": {},
     "nuid": "e73986fa-4482-4159-944d-c9f45bd9f576",
     "showTitle": false,
     "tableResultSettingsMap": {},
     "title": ""
    }
   },
   "outputs": [
    {
     "output_type": "display_data",
     "data": {
      "text/html": [
       "<style scoped>\n",
       "  .table-result-container {\n",
       "    max-height: 300px;\n",
       "    overflow: auto;\n",
       "  }\n",
       "  table, th, td {\n",
       "    border: 1px solid black;\n",
       "    border-collapse: collapse;\n",
       "  }\n",
       "  th, td {\n",
       "    padding: 5px;\n",
       "  }\n",
       "  th {\n",
       "    text-align: left;\n",
       "  }\n",
       "</style><div class='table-result-container'><table class='table-result'><thead style='background-color: white'><tr><th>year</th><th>total_sales</th><th>avg_sales</th><th>unique_orders</th></tr></thead><tbody><tr><td>2003</td><td>3516979.5400000014</td><td>3516.9795400000016</td><td>104</td></tr><tr><td>2004</td><td>4724162.600000002</td><td>3512.3885501858754</td><td>144</td></tr><tr><td>2005</td><td>1791486.7099999993</td><td>3747.8801464435132</td><td>59</td></tr></tbody></table></div>"
      ]
     },
     "metadata": {
      "application/vnd.databricks.v1+output": {
       "addedWidgets": {},
       "aggData": [],
       "aggError": "",
       "aggOverflow": false,
       "aggSchema": [],
       "aggSeriesLimitReached": false,
       "aggType": "",
       "arguments": {},
       "columnCustomDisplayInfos": {},
       "data": [
        [
         2003,
         3516979.5400000014,
         3516.9795400000016,
         104
        ],
        [
         2004,
         4724162.600000002,
         3512.3885501858754,
         144
        ],
        [
         2005,
         1791486.7099999993,
         3747.8801464435132,
         59
        ]
       ],
       "datasetInfos": [],
       "dbfsResultPath": null,
       "isJsonSchema": true,
       "metadata": {},
       "overflow": false,
       "plotOptions": {
        "customPlotOptions": {},
        "displayType": "table",
        "pivotAggregation": null,
        "pivotColumns": null,
        "xColumns": null,
        "yColumns": null
       },
       "removedWidgets": [],
       "schema": [
        {
         "metadata": "{}",
         "name": "year",
         "type": "\"integer\""
        },
        {
         "metadata": "{}",
         "name": "total_sales",
         "type": "\"double\""
        },
        {
         "metadata": "{}",
         "name": "avg_sales",
         "type": "\"double\""
        },
        {
         "metadata": "{}",
         "name": "unique_orders",
         "type": "\"long\""
        }
       ],
       "type": "table"
      }
     },
     "output_type": "display_data"
    },
    {
     "output_type": "display_data",
     "data": {
      "text/plain": [
       "Databricks visualization. Run in Databricks to view."
      ]
     },
     "metadata": {
      "application/vnd.databricks.v1.subcommand+json": {
       "baseErrorDetails": null,
       "bindings": {},
       "collapsed": false,
       "command": "%python\n__backend_agg_display_orig = display\n__backend_agg_dfs = []\ndef __backend_agg_display_new(df):\n    __backend_agg_df_modules = [\"pandas.core.frame\", \"databricks.koalas.frame\", \"pyspark.sql.dataframe\", \"pyspark.pandas.frame\", \"pyspark.sql.connect.dataframe\"]\n    if (type(df).__module__ in __backend_agg_df_modules and type(df).__name__ == 'DataFrame') or isinstance(df, list):\n        __backend_agg_dfs.append(df)\n\ndisplay = __backend_agg_display_new\n\ndef __backend_agg_user_code_fn():\n    import base64\n    exec(base64.standard_b64decode(\"IyBZZWFybHkgU2FsZXMgU3VtbWFyeQpkZl95ZWFybHkgPSAoCiAgICBkZl9zaWx2ZXIuZ3JvdXBCeSgKICAgICAgICBGLnllYXIoIk9SREVSREFURSIpLmFsaWFzKCJ5ZWFyIikKICAgICkKICAgIC5hZ2coCiAgICAgICAgRi5zdW0oIlNBTEVTIikuYWxpYXMoInRvdGFsX3NhbGVzIiksCiAgICAgICAgRi5hdmcoIlNBTEVTIikuYWxpYXMoImF2Z19zYWxlcyIpLAogICAgICAgIEYuY291bnREaXN0aW5jdCgiT1JERVJOVU1CRVIiKS5hbGlhcygidW5pcXVlX29yZGVycyIpCiAgICApCiAgICAub3JkZXJCeSgieWVhciIpCikKCiMgU2F2ZSB0byBHb2xkIExheWVyCmRmX3llYXJseS53cml0ZS5mb3JtYXQoImRlbHRhIikubW9kZSgib3ZlcndyaXRlIikuc2F2ZUFzVGFibGUoImdvbGRfc2FsZXNfeWVhcmx5IikKCiMgVmlzdWFsaXplIChiYXIgY2hhcnQgaW4gRGF0YWJyaWNrcykKZGlzcGxheShkZl95ZWFybHkp\").decode())\n\ntry:\n    # run user code\n    __backend_agg_user_code_fn()\n\n    #reset display function\n    display = __backend_agg_display_orig\n\n    if len(__backend_agg_dfs) > 0:\n        # create a temp view\n        if type(__backend_agg_dfs[0]).__module__ == \"databricks.koalas.frame\":\n            # koalas dataframe\n            __backend_agg_dfs[0].to_spark().createOrReplaceTempView(\"DatabricksViewe016411\")\n        elif type(__backend_agg_dfs[0]).__module__ == \"pandas.core.frame\" or isinstance(__backend_agg_dfs[0], list):\n            # pandas dataframe\n            spark.createDataFrame(__backend_agg_dfs[0]).createOrReplaceTempView(\"DatabricksViewe016411\")\n        else:\n            __backend_agg_dfs[0].createOrReplaceTempView(\"DatabricksViewe016411\")\n        #run backend agg\n        display(spark.sql(\"\"\"WITH q AS (select * from DatabricksViewe016411) SELECT `year`,SUM(`total_sales`) `column_eada08fb80` FROM q GROUP BY `year`\"\"\"))\n    else:\n        displayHTML(\"dataframe no longer exists. If you're using dataframe.display(), use display(dataframe) instead.\")\n\n\nfinally:\n    spark.sql(\"drop view if exists DatabricksViewe016411\")\n    display = __backend_agg_display_orig\n    del __backend_agg_display_new\n    del __backend_agg_display_orig\n    del __backend_agg_dfs\n    del __backend_agg_user_code_fn\n\n",
       "commandTitle": "Visualization 1",
       "commandType": "auto",
       "commandVersion": 0,
       "commentThread": [],
       "commentsVisible": false,
       "contentSha256Hex": null,
       "customPlotOptions": {
        "redashChart": [
         {
          "key": "type",
          "value": "CHART"
         },
         {
          "key": "options",
          "value": {
           "alignYAxesAtZero": true,
           "coefficient": 1,
           "columnConfigurationMap": {
            "x": {
             "column": "year",
             "id": "column_eada08fb138"
            },
            "y": [
             {
              "column": "total_sales",
              "id": "column_eada08fb80",
              "transform": "SUM"
             }
            ]
           },
           "dateTimeFormat": "DD/MM/YYYY HH:mm",
           "direction": {
            "type": "counterclockwise"
           },
           "error_y": {
            "type": "data",
            "visible": true
           },
           "globalSeriesType": "column",
           "isAggregationOn": true,
           "legend": {
            "traceorder": "normal"
           },
           "missingValuesAsZero": true,
           "numberFormat": "0,0.[00000]",
           "percentFormat": "0[.]00%",
           "series": {
            "error_y": {
             "type": "data",
             "visible": true
            },
            "percentValues": false,
            "stacking": null
           },
           "seriesOptions": {
            "column_eada08fb80": {
             "color": "#077A9D",
             "type": "column",
             "yAxis": 0
            }
           },
           "showDataLabels": false,
           "sizemode": "diameter",
           "sortX": true,
           "sortY": true,
           "swappedAxes": false,
           "textFormat": "",
           "useAggregationsUi": true,
           "valuesOptions": {},
           "version": 2,
           "xAxis": {
            "labels": {
             "enabled": true
            },
            "type": "-"
           },
           "yAxis": [
            {
             "type": "-"
            },
            {
             "opposite": true,
             "type": "-"
            }
           ]
          }
         }
        ]
       },
       "datasetPreviewNameToCmdIdMap": {},
       "diffDeletes": [],
       "diffInserts": [],
       "displayType": "redashChart",
       "error": null,
       "errorDetails": null,
       "errorSummary": null,
       "errorTraceType": null,
       "finishTime": 0,
       "globalVars": {},
       "guid": "",
       "height": "auto",
       "hideCommandCode": false,
       "hideCommandResult": false,
       "iPythonMetadata": null,
       "inputWidgets": {},
       "isLockedInExamMode": false,
       "latestUser": "a user",
       "latestUserId": null,
       "listResultMetadata": null,
       "metadata": {
        "byteLimit": 2048000,
        "rowLimit": 10000
       },
       "nuid": "5157c705-8e7f-4fb7-9cf7-16627c29cfc6",
       "origId": 0,
       "parentHierarchy": [],
       "pivotAggregation": null,
       "pivotColumns": null,
       "position": 5.0,
       "resultDbfsErrorMessage": null,
       "resultDbfsStatus": "INLINED_IN_TREE",
       "results": null,
       "showCommandTitle": false,
       "startTime": 0,
       "state": "finished",
       "streamStates": {},
       "subcommandOptions": {
        "queryPlan": {
         "groups": [
          {
           "column": "year",
           "type": "column"
          }
         ],
         "selects": [
          {
           "column": "year",
           "type": "column"
          },
          {
           "alias": "column_eada08fb80",
           "args": [
            {
             "column": "total_sales",
             "type": "column"
            }
           ],
           "function": "SUM",
           "type": "function"
          }
         ]
        }
       },
       "submitTime": 0,
       "subtype": "tableResultSubCmd.visualization",
       "tableResultIndex": 0,
       "tableResultSettingsMap": {},
       "useConsistentColors": false,
       "version": "CommandV1",
       "width": "auto",
       "workflows": [],
       "xColumns": null,
       "yColumns": null
      }
     },
     "output_type": "display_data"
    }
   ],
   "source": [
    "# Yearly Sales Summary\n",
    "df_yearly = (\n",
    "    df_silver.groupBy(\n",
    "        F.year(\"ORDERDATE\").alias(\"year\")\n",
    "    )\n",
    "    .agg(\n",
    "        F.sum(\"SALES\").alias(\"total_sales\"),\n",
    "        F.avg(\"SALES\").alias(\"avg_sales\"),\n",
    "        F.countDistinct(\"ORDERNUMBER\").alias(\"unique_orders\")\n",
    "    )\n",
    "    .orderBy(\"year\")\n",
    ")\n",
    "\n",
    "# Save to Gold Layer\n",
    "df_yearly.write.format(\"delta\").mode(\"overwrite\").saveAsTable(\"gold_sales_yearly\")\n",
    "\n",
    "# Visualize (bar chart in Databricks)\n",
    "display(df_yearly)"
   ]
  },
  {
   "cell_type": "markdown",
   "metadata": {
    "application/vnd.databricks.v1+cell": {
     "cellMetadata": {
      "byteLimit": 2048000,
      "rowLimit": 10000
     },
     "inputWidgets": {},
     "nuid": "50827829-7c46-4ca5-a5e0-fc8a33ebd53d",
     "showTitle": false,
     "tableResultSettingsMap": {},
     "title": ""
    }
   },
   "source": [
    "###Top 10 performing products"
   ]
  },
  {
   "cell_type": "code",
   "execution_count": 0,
   "metadata": {
    "application/vnd.databricks.v1+cell": {
     "cellMetadata": {
      "byteLimit": 2048000,
      "rowLimit": 10000
     },
     "inputWidgets": {},
     "nuid": "3aa1a600-5fec-48b6-85ad-578476da8199",
     "showTitle": false,
     "tableResultSettingsMap": {},
     "title": ""
    }
   },
   "outputs": [
    {
     "output_type": "display_data",
     "data": {
      "text/html": [
       "<style scoped>\n",
       "  .table-result-container {\n",
       "    max-height: 300px;\n",
       "    overflow: auto;\n",
       "  }\n",
       "  table, th, td {\n",
       "    border: 1px solid black;\n",
       "    border-collapse: collapse;\n",
       "  }\n",
       "  th, td {\n",
       "    padding: 5px;\n",
       "  }\n",
       "  th {\n",
       "    text-align: left;\n",
       "  }\n",
       "</style><div class='table-result-container'><table class='table-result'><thead style='background-color: white'><tr><th>PRODUCTCODE</th><th>total_sales</th></tr></thead><tbody><tr><td>S18_3232</td><td>288245.4199999999</td></tr><tr><td>S10_1949</td><td>191073.03</td></tr><tr><td>S10_4698</td><td>170401.07000000004</td></tr><tr><td>S12_1108</td><td>168585.32000000004</td></tr><tr><td>S18_2238</td><td>154623.95</td></tr><tr><td>S12_3891</td><td>145332.03999999995</td></tr><tr><td>S24_3856</td><td>140626.90000000002</td></tr><tr><td>S12_2823</td><td>140006.16</td></tr><tr><td>S18_1662</td><td>139421.97</td></tr><tr><td>S12_1099</td><td>137177.00999999998</td></tr></tbody></table></div>"
      ]
     },
     "metadata": {
      "application/vnd.databricks.v1+output": {
       "addedWidgets": {},
       "aggData": [],
       "aggError": "",
       "aggOverflow": false,
       "aggSchema": [],
       "aggSeriesLimitReached": false,
       "aggType": "",
       "arguments": {},
       "columnCustomDisplayInfos": {},
       "data": [
        [
         "S18_3232",
         288245.4199999999
        ],
        [
         "S10_1949",
         191073.03
        ],
        [
         "S10_4698",
         170401.07000000004
        ],
        [
         "S12_1108",
         168585.32000000004
        ],
        [
         "S18_2238",
         154623.95
        ],
        [
         "S12_3891",
         145332.03999999995
        ],
        [
         "S24_3856",
         140626.90000000002
        ],
        [
         "S12_2823",
         140006.16
        ],
        [
         "S18_1662",
         139421.97
        ],
        [
         "S12_1099",
         137177.00999999998
        ]
       ],
       "datasetInfos": [],
       "dbfsResultPath": null,
       "isJsonSchema": true,
       "metadata": {},
       "overflow": false,
       "plotOptions": {
        "customPlotOptions": {},
        "displayType": "table",
        "pivotAggregation": null,
        "pivotColumns": null,
        "xColumns": null,
        "yColumns": null
       },
       "removedWidgets": [],
       "schema": [
        {
         "metadata": "{}",
         "name": "PRODUCTCODE",
         "type": "\"string\""
        },
        {
         "metadata": "{}",
         "name": "total_sales",
         "type": "\"double\""
        }
       ],
       "type": "table"
      }
     },
     "output_type": "display_data"
    },
    {
     "output_type": "display_data",
     "data": {
      "text/plain": [
       "Databricks visualization. Run in Databricks to view."
      ]
     },
     "metadata": {
      "application/vnd.databricks.v1.subcommand+json": {
       "baseErrorDetails": null,
       "bindings": {},
       "collapsed": false,
       "command": "%python\n__backend_agg_display_orig = display\n__backend_agg_dfs = []\ndef __backend_agg_display_new(df):\n    __backend_agg_df_modules = [\"pandas.core.frame\", \"databricks.koalas.frame\", \"pyspark.sql.dataframe\", \"pyspark.pandas.frame\", \"pyspark.sql.connect.dataframe\"]\n    if (type(df).__module__ in __backend_agg_df_modules and type(df).__name__ == 'DataFrame') or isinstance(df, list):\n        __backend_agg_dfs.append(df)\n\ndisplay = __backend_agg_display_new\n\ndef __backend_agg_user_code_fn():\n    import base64\n    exec(base64.standard_b64decode(\"IyBUb3AgMTAgUHJvZHVjdHMKZGZfdG9wX3Byb2R1Y3RzID0gKAogICAgZGZfc2lsdmVyLmdyb3VwQnkoIlBST0RVQ1RDT0RFIikKICAgIC5hZ2coRi5zdW0oIlNBTEVTIikuYWxpYXMoInRvdGFsX3NhbGVzIikpCiAgICAub3JkZXJCeShGLmRlc2MoInRvdGFsX3NhbGVzIikpCiAgICAubGltaXQoMTApCikKCiMgU2F2ZSB0byBHb2xkIExheWVyCmRmX3RvcF9wcm9kdWN0cy53cml0ZS5mb3JtYXQoImRlbHRhIikubW9kZSgib3ZlcndyaXRlIikuc2F2ZUFzVGFibGUoImdvbGRfdG9wX3Byb2R1Y3RzIikKCiMgVmlzdWFsaXplIChiYXIgY2hhcnQgZm9yIHRvcCBwcm9kdWN0cykKZGlzcGxheShkZl90b3BfcHJvZHVjdHMp\").decode())\n\ntry:\n    # run user code\n    __backend_agg_user_code_fn()\n\n    #reset display function\n    display = __backend_agg_display_orig\n\n    if len(__backend_agg_dfs) > 0:\n        # create a temp view\n        if type(__backend_agg_dfs[0]).__module__ == \"databricks.koalas.frame\":\n            # koalas dataframe\n            __backend_agg_dfs[0].to_spark().createOrReplaceTempView(\"DatabricksViewab3de74\")\n        elif type(__backend_agg_dfs[0]).__module__ == \"pandas.core.frame\" or isinstance(__backend_agg_dfs[0], list):\n            # pandas dataframe\n            spark.createDataFrame(__backend_agg_dfs[0]).createOrReplaceTempView(\"DatabricksViewab3de74\")\n        else:\n            __backend_agg_dfs[0].createOrReplaceTempView(\"DatabricksViewab3de74\")\n        #run backend agg\n        display(spark.sql(\"\"\"WITH q AS (select * from DatabricksViewab3de74) SELECT `PRODUCTCODE`,SUM(`total_sales`) `column_eada08fb99`,`PRODUCTCODE` FROM q GROUP BY `PRODUCTCODE`\"\"\"))\n    else:\n        displayHTML(\"dataframe no longer exists. If you're using dataframe.display(), use display(dataframe) instead.\")\n\n\nfinally:\n    spark.sql(\"drop view if exists DatabricksViewab3de74\")\n    display = __backend_agg_display_orig\n    del __backend_agg_display_new\n    del __backend_agg_display_orig\n    del __backend_agg_dfs\n    del __backend_agg_user_code_fn\n\n",
       "commandTitle": "Visualization 1",
       "commandType": "auto",
       "commandVersion": 0,
       "commentThread": [],
       "commentsVisible": false,
       "contentSha256Hex": null,
       "customPlotOptions": {
        "redashChart": [
         {
          "key": "type",
          "value": "CHART"
         },
         {
          "key": "options",
          "value": {
           "alignYAxesAtZero": true,
           "coefficient": 1,
           "columnConfigurationMap": {
            "series": {
             "column": "PRODUCTCODE",
             "id": "column_eada08fb107"
            },
            "x": {
             "column": "PRODUCTCODE",
             "id": "column_eada08fb106"
            },
            "y": [
             {
              "column": "total_sales",
              "id": "column_eada08fb99",
              "transform": "SUM"
             }
            ]
           },
           "dateTimeFormat": "DD/MM/YYYY HH:mm",
           "direction": {
            "type": "counterclockwise"
           },
           "error_y": {
            "type": "data",
            "visible": true
           },
           "globalSeriesType": "column",
           "isAggregationOn": true,
           "legend": {
            "traceorder": "normal"
           },
           "missingValuesAsZero": true,
           "numberFormat": "0,0.[00000]",
           "percentFormat": "0[.]00%",
           "series": {
            "error_y": {
             "type": "data",
             "visible": true
            },
            "stacking": null
           },
           "seriesOptions": {
            "column_eada08fb99": {
             "name": "total_sales",
             "type": "column",
             "yAxis": 0
            }
           },
           "showDataLabels": false,
           "sizemode": "diameter",
           "sortX": true,
           "sortY": true,
           "swappedAxes": false,
           "textFormat": "",
           "useAggregationsUi": true,
           "valuesOptions": {},
           "version": 2,
           "xAxis": {
            "labels": {
             "enabled": true
            },
            "type": "-"
           },
           "yAxis": [
            {
             "type": "-"
            },
            {
             "opposite": true,
             "type": "-"
            }
           ]
          }
         }
        ]
       },
       "datasetPreviewNameToCmdIdMap": {},
       "diffDeletes": [],
       "diffInserts": [],
       "displayType": "redashChart",
       "error": null,
       "errorDetails": null,
       "errorSummary": null,
       "errorTraceType": null,
       "finishTime": 0,
       "globalVars": {},
       "guid": "",
       "height": "auto",
       "hideCommandCode": false,
       "hideCommandResult": false,
       "iPythonMetadata": null,
       "inputWidgets": {},
       "isLockedInExamMode": false,
       "latestUser": "a user",
       "latestUserId": null,
       "listResultMetadata": null,
       "metadata": {
        "byteLimit": 2048000,
        "rowLimit": 10000
       },
       "nuid": "a0f5d74f-6414-44f4-bac7-cdc4fa162ae0",
       "origId": 0,
       "parentHierarchy": [],
       "pivotAggregation": null,
       "pivotColumns": null,
       "position": 6.0,
       "resultDbfsErrorMessage": null,
       "resultDbfsStatus": "INLINED_IN_TREE",
       "results": null,
       "showCommandTitle": false,
       "startTime": 0,
       "state": "finished",
       "streamStates": {},
       "subcommandOptions": {
        "queryPlan": {
         "groups": [
          {
           "column": "PRODUCTCODE",
           "type": "column"
          },
          {
           "column": "PRODUCTCODE",
           "type": "column"
          }
         ],
         "selects": [
          {
           "column": "PRODUCTCODE",
           "type": "column"
          },
          {
           "alias": "column_eada08fb99",
           "args": [
            {
             "column": "total_sales",
             "type": "column"
            }
           ],
           "function": "SUM",
           "type": "function"
          },
          {
           "column": "PRODUCTCODE",
           "type": "column"
          }
         ]
        }
       },
       "submitTime": 0,
       "subtype": "tableResultSubCmd.visualization",
       "tableResultIndex": 0,
       "tableResultSettingsMap": {},
       "useConsistentColors": false,
       "version": "CommandV1",
       "width": "auto",
       "workflows": [],
       "xColumns": null,
       "yColumns": null
      }
     },
     "output_type": "display_data"
    }
   ],
   "source": [
    "# Top 10 Products\n",
    "df_top_products = (\n",
    "    df_silver.groupBy(\"PRODUCTCODE\")\n",
    "    .agg(F.sum(\"SALES\").alias(\"total_sales\"))\n",
    "    .orderBy(F.desc(\"total_sales\"))\n",
    "    .limit(10)\n",
    ")\n",
    "\n",
    "# Save to Gold Layer\n",
    "df_top_products.write.format(\"delta\").mode(\"overwrite\").saveAsTable(\"gold_top_products\")\n",
    "\n",
    "# Visualize (bar chart for top products)\n",
    "display(df_top_products)"
   ]
  },
  {
   "cell_type": "markdown",
   "metadata": {
    "application/vnd.databricks.v1+cell": {
     "cellMetadata": {
      "byteLimit": 2048000,
      "rowLimit": 10000
     },
     "inputWidgets": {},
     "nuid": "7ee4e067-459b-4fd4-af23-e74663182d28",
     "showTitle": false,
     "tableResultSettingsMap": {},
     "title": ""
    }
   },
   "source": [
    "###Top 10 Customers"
   ]
  },
  {
   "cell_type": "code",
   "execution_count": 0,
   "metadata": {
    "application/vnd.databricks.v1+cell": {
     "cellMetadata": {
      "byteLimit": 2048000,
      "rowLimit": 10000
     },
     "inputWidgets": {},
     "nuid": "e5ae8154-805f-4059-977e-3295d9e44dff",
     "showTitle": false,
     "tableResultSettingsMap": {},
     "title": ""
    }
   },
   "outputs": [
    {
     "output_type": "display_data",
     "data": {
      "text/html": [
       "<style scoped>\n",
       "  .table-result-container {\n",
       "    max-height: 300px;\n",
       "    overflow: auto;\n",
       "  }\n",
       "  table, th, td {\n",
       "    border: 1px solid black;\n",
       "    border-collapse: collapse;\n",
       "  }\n",
       "  th, td {\n",
       "    padding: 5px;\n",
       "  }\n",
       "  th {\n",
       "    text-align: left;\n",
       "  }\n",
       "</style><div class='table-result-container'><table class='table-result'><thead style='background-color: white'><tr><th>CUSTOMERNAME</th><th>total_sales</th></tr></thead><tbody><tr><td>Euro Shopping Channel</td><td>912294.1100000007</td></tr><tr><td>Mini Gifts Distributors Ltd.</td><td>654858.0600000004</td></tr><tr><td>Australian Collectors, Co.</td><td>200995.41</td></tr><tr><td>Muscle Machine Inc</td><td>197736.94000000006</td></tr><tr><td>La Rochelle Gifts</td><td>180124.9</td></tr><tr><td>Dragon Souveniers, Ltd.</td><td>172989.68</td></tr><tr><td>Land of Toys Inc.</td><td>164069.44000000003</td></tr><tr><td>The Sharp Gifts Warehouse</td><td>160010.27000000002</td></tr><tr><td>AV Stores, Co.</td><td>157807.80999999994</td></tr><tr><td>Anna's Decorations, Ltd</td><td>153996.13000000003</td></tr></tbody></table></div>"
      ]
     },
     "metadata": {
      "application/vnd.databricks.v1+output": {
       "addedWidgets": {},
       "aggData": [],
       "aggError": "",
       "aggOverflow": false,
       "aggSchema": [],
       "aggSeriesLimitReached": false,
       "aggType": "",
       "arguments": {},
       "columnCustomDisplayInfos": {},
       "data": [
        [
         "Euro Shopping Channel",
         912294.1100000007
        ],
        [
         "Mini Gifts Distributors Ltd.",
         654858.0600000004
        ],
        [
         "Australian Collectors, Co.",
         200995.41
        ],
        [
         "Muscle Machine Inc",
         197736.94000000006
        ],
        [
         "La Rochelle Gifts",
         180124.9
        ],
        [
         "Dragon Souveniers, Ltd.",
         172989.68
        ],
        [
         "Land of Toys Inc.",
         164069.44000000003
        ],
        [
         "The Sharp Gifts Warehouse",
         160010.27000000002
        ],
        [
         "AV Stores, Co.",
         157807.80999999994
        ],
        [
         "Anna's Decorations, Ltd",
         153996.13000000003
        ]
       ],
       "datasetInfos": [],
       "dbfsResultPath": null,
       "isJsonSchema": true,
       "metadata": {},
       "overflow": false,
       "plotOptions": {
        "customPlotOptions": {},
        "displayType": "table",
        "pivotAggregation": null,
        "pivotColumns": null,
        "xColumns": null,
        "yColumns": null
       },
       "removedWidgets": [],
       "schema": [
        {
         "metadata": "{}",
         "name": "CUSTOMERNAME",
         "type": "\"string\""
        },
        {
         "metadata": "{}",
         "name": "total_sales",
         "type": "\"double\""
        }
       ],
       "type": "table"
      }
     },
     "output_type": "display_data"
    },
    {
     "output_type": "display_data",
     "data": {
      "text/plain": [
       "Databricks visualization. Run in Databricks to view."
      ]
     },
     "metadata": {
      "application/vnd.databricks.v1.subcommand+json": {
       "baseErrorDetails": null,
       "bindings": {},
       "collapsed": false,
       "command": "%python\n__backend_agg_display_orig = display\n__backend_agg_dfs = []\ndef __backend_agg_display_new(df):\n    __backend_agg_df_modules = [\"pandas.core.frame\", \"databricks.koalas.frame\", \"pyspark.sql.dataframe\", \"pyspark.pandas.frame\", \"pyspark.sql.connect.dataframe\"]\n    if (type(df).__module__ in __backend_agg_df_modules and type(df).__name__ == 'DataFrame') or isinstance(df, list):\n        __backend_agg_dfs.append(df)\n\ndisplay = __backend_agg_display_new\n\ndef __backend_agg_user_code_fn():\n    import base64\n    exec(base64.standard_b64decode(\"IyBUb3AgMTAgQ3VzdG9tZXJzCmRmX3RvcF9jdXN0b21lcnMgPSAoCiAgICBkZl9zaWx2ZXIuZ3JvdXBCeSgiQ1VTVE9NRVJOQU1FIikKICAgIC5hZ2coRi5zdW0oIlNBTEVTIikuYWxpYXMoInRvdGFsX3NhbGVzIikpCiAgICAub3JkZXJCeShGLmRlc2MoInRvdGFsX3NhbGVzIikpCiAgICAubGltaXQoMTApCikKCiMgU2F2ZSB0byBHb2xkIExheWVyCmRmX3RvcF9jdXN0b21lcnMud3JpdGUuZm9ybWF0KCJkZWx0YSIpLm1vZGUoIm92ZXJ3cml0ZSIpLnNhdmVBc1RhYmxlKCJnb2xkX3RvcF9jdXN0b21lcnMiKQoKIyBWaXN1YWxpemUgKGJhciBjaGFydCBmb3IgY3VzdG9tZXJzKQpkaXNwbGF5KGRmX3RvcF9jdXN0b21lcnMp\").decode())\n\ntry:\n    # run user code\n    __backend_agg_user_code_fn()\n\n    #reset display function\n    display = __backend_agg_display_orig\n\n    if len(__backend_agg_dfs) > 0:\n        # create a temp view\n        if type(__backend_agg_dfs[0]).__module__ == \"databricks.koalas.frame\":\n            # koalas dataframe\n            __backend_agg_dfs[0].to_spark().createOrReplaceTempView(\"DatabricksView7edb723\")\n        elif type(__backend_agg_dfs[0]).__module__ == \"pandas.core.frame\" or isinstance(__backend_agg_dfs[0], list):\n            # pandas dataframe\n            spark.createDataFrame(__backend_agg_dfs[0]).createOrReplaceTempView(\"DatabricksView7edb723\")\n        else:\n            __backend_agg_dfs[0].createOrReplaceTempView(\"DatabricksView7edb723\")\n        #run backend agg\n        display(spark.sql(\"\"\"WITH q AS (select * from DatabricksView7edb723) SELECT `CUSTOMERNAME`,SUM(`total_sales`) `column_eada08fb124`,`CUSTOMERNAME` FROM q GROUP BY `CUSTOMERNAME`\"\"\"))\n    else:\n        displayHTML(\"dataframe no longer exists. If you're using dataframe.display(), use display(dataframe) instead.\")\n\n\nfinally:\n    spark.sql(\"drop view if exists DatabricksView7edb723\")\n    display = __backend_agg_display_orig\n    del __backend_agg_display_new\n    del __backend_agg_display_orig\n    del __backend_agg_dfs\n    del __backend_agg_user_code_fn\n\n",
       "commandTitle": "Visualization 1",
       "commandType": "auto",
       "commandVersion": 0,
       "commentThread": [],
       "commentsVisible": false,
       "contentSha256Hex": null,
       "customPlotOptions": {
        "redashChart": [
         {
          "key": "type",
          "value": "CHART"
         },
         {
          "key": "options",
          "value": {
           "alignYAxesAtZero": true,
           "coefficient": 1,
           "columnConfigurationMap": {
            "series": {
             "column": "CUSTOMERNAME",
             "id": "column_eada08fb134"
            },
            "x": {
             "column": "CUSTOMERNAME",
             "id": "column_eada08fb132"
            },
            "y": [
             {
              "column": "total_sales",
              "id": "column_eada08fb124",
              "transform": "SUM"
             }
            ]
           },
           "dateTimeFormat": "DD/MM/YYYY HH:mm",
           "direction": {
            "type": "counterclockwise"
           },
           "error_y": {
            "type": "data",
            "visible": true
           },
           "globalSeriesType": "column",
           "isAggregationOn": true,
           "legend": {
            "traceorder": "normal"
           },
           "missingValuesAsZero": true,
           "numberFormat": "0,0.[00000]",
           "percentFormat": "0[.]00%",
           "series": {
            "error_y": {
             "type": "data",
             "visible": true
            },
            "stacking": null
           },
           "seriesOptions": {
            "column_eada08fb124": {
             "name": "total_sales",
             "type": "column",
             "yAxis": 0
            },
            "column_eada08fb127": {
             "type": "column",
             "yAxis": 0
            }
           },
           "showDataLabels": false,
           "sizemode": "diameter",
           "sortX": true,
           "sortY": true,
           "swappedAxes": false,
           "textFormat": "",
           "useAggregationsUi": true,
           "valuesOptions": {},
           "version": 2,
           "xAxis": {
            "labels": {
             "enabled": true
            },
            "type": "-"
           },
           "yAxis": [
            {
             "type": "-"
            },
            {
             "opposite": true,
             "type": "-"
            }
           ]
          }
         }
        ]
       },
       "datasetPreviewNameToCmdIdMap": {},
       "diffDeletes": [],
       "diffInserts": [],
       "displayType": "redashChart",
       "error": null,
       "errorDetails": null,
       "errorSummary": null,
       "errorTraceType": null,
       "finishTime": 0,
       "globalVars": {},
       "guid": "",
       "height": "auto",
       "hideCommandCode": false,
       "hideCommandResult": false,
       "iPythonMetadata": null,
       "inputWidgets": {},
       "isLockedInExamMode": false,
       "latestUser": "a user",
       "latestUserId": null,
       "listResultMetadata": null,
       "metadata": {
        "byteLimit": 2048000,
        "rowLimit": 10000
       },
       "nuid": "7f5f1886-8c1c-428a-aebd-08a2b3bd90cd",
       "origId": 0,
       "parentHierarchy": [],
       "pivotAggregation": null,
       "pivotColumns": null,
       "position": 7.0,
       "resultDbfsErrorMessage": null,
       "resultDbfsStatus": "INLINED_IN_TREE",
       "results": null,
       "showCommandTitle": false,
       "startTime": 0,
       "state": "finished",
       "streamStates": {},
       "subcommandOptions": {
        "queryPlan": {
         "groups": [
          {
           "column": "CUSTOMERNAME",
           "type": "column"
          },
          {
           "column": "CUSTOMERNAME",
           "type": "column"
          }
         ],
         "selects": [
          {
           "column": "CUSTOMERNAME",
           "type": "column"
          },
          {
           "alias": "column_eada08fb124",
           "args": [
            {
             "column": "total_sales",
             "type": "column"
            }
           ],
           "function": "SUM",
           "type": "function"
          },
          {
           "column": "CUSTOMERNAME",
           "type": "column"
          }
         ]
        }
       },
       "submitTime": 0,
       "subtype": "tableResultSubCmd.visualization",
       "tableResultIndex": 0,
       "tableResultSettingsMap": {},
       "useConsistentColors": false,
       "version": "CommandV1",
       "width": "auto",
       "workflows": [],
       "xColumns": null,
       "yColumns": null
      }
     },
     "output_type": "display_data"
    }
   ],
   "source": [
    "# Top 10 Customers\n",
    "df_top_customers = (\n",
    "    df_silver.groupBy(\"CUSTOMERNAME\")\n",
    "    .agg(F.sum(\"SALES\").alias(\"total_sales\"))\n",
    "    .orderBy(F.desc(\"total_sales\"))\n",
    "    .limit(10)\n",
    ")\n",
    "\n",
    "# Save to Gold Layer\n",
    "df_top_customers.write.format(\"delta\").mode(\"overwrite\").saveAsTable(\"gold_top_customers\")\n",
    "\n",
    "# Visualize (bar chart for customers)\n",
    "display(df_top_customers)"
   ]
  }
 ],
 "metadata": {
  "application/vnd.databricks.v1+notebook": {
   "computePreferences": null,
   "dashboards": [
    {
     "elements": [
      {
       "dashboardResultIndex": null,
       "elementNUID": "a0f5d74f-6414-44f4-bac7-cdc4fa162ae0",
       "elementType": "command",
       "guid": "04a7206f-d938-4c34-9f12-86fc2eee3850",
       "options": null,
       "position": {
        "height": 6,
        "width": 12,
        "x": 0,
        "y": 0,
        "z": null
       },
       "resultIndex": null
      },
      {
       "dashboardResultIndex": null,
       "elementNUID": "4f7c282c-9047-44c2-8dc0-465bdd949d37",
       "elementType": "command",
       "guid": "87614f91-8042-4ab5-b88b-f4ee6f4b3609",
       "options": null,
       "position": {
        "height": 6,
        "width": 12,
        "x": 0,
        "y": 6,
        "z": null
       },
       "resultIndex": null
      },
      {
       "dashboardResultIndex": null,
       "elementNUID": "5157c705-8e7f-4fb7-9cf7-16627c29cfc6",
       "elementType": "command",
       "guid": "a2e09407-b45c-48a6-a382-fd321f52c7d2",
       "options": null,
       "position": {
        "height": 6,
        "width": 12,
        "x": 0,
        "y": 12,
        "z": null
       },
       "resultIndex": null
      },
      {
       "dashboardResultIndex": null,
       "elementNUID": "7f5f1886-8c1c-428a-aebd-08a2b3bd90cd",
       "elementType": "command",
       "guid": "d2b91a31-857c-445f-89fc-41259202f469",
       "options": null,
       "position": {
        "height": 6,
        "width": 12,
        "x": 0,
        "y": 18,
        "z": null
       },
       "resultIndex": null
      }
     ],
     "globalVars": {},
     "guid": "",
     "layoutOption": {
      "grid": true,
      "stack": true
     },
     "nuid": "281f33bf-d1cc-4166-be7a-f818481d7b0d",
     "origId": 4833056604692777,
     "title": "sales_dashboard",
     "version": "DashboardViewV1",
     "width": 1024
    }
   ],
   "environmentMetadata": {
    "base_environment": "",
    "environment_version": "2"
   },
   "inputWidgetPreferences": null,
   "language": "python",
   "notebookMetadata": {
    "pythonIndentUnit": 4
   },
   "notebookName": "03_business_agg",
   "widgets": {}
  },
  "language_info": {
   "name": "python"
  }
 },
 "nbformat": 4,
 "nbformat_minor": 0
}